{
  "nbformat": 4,
  "nbformat_minor": 5,
  "metadata": {
    "colab": {
      "name": "asteroid_prediction.ipynb",
      "provenance": [],
      "collapsed_sections": []
    },
    "kernelspec": {
      "display_name": "Python 3 (ipykernel)",
      "language": "python",
      "name": "python3"
    },
    "language_info": {
      "codemirror_mode": {
        "name": "ipython",
        "version": 3
      },
      "file_extension": ".py",
      "mimetype": "text/x-python",
      "name": "python",
      "nbconvert_exporter": "python",
      "pygments_lexer": "ipython3",
      "version": "3.9.7"
    }
  },
  "cells": [
    {
      "cell_type": "markdown",
      "metadata": {
        "id": "3PzBhcp5PPsl"
      },
      "source": [
        "# Predicting Diameter and Physical Harm of Asteroids using Machine Learning\n",
        "**Authors** :\n",
        "Colin Campbell (c_c953), Jake Worden (jrw294), Leah Lewis (lrl68) and Ryan Wakabayashi (rjw102)\n",
        "\n",
        "**Abstract** :  [  ]"
      ],
      "id": "3PzBhcp5PPsl"
    },
    {
      "cell_type": "markdown",
      "metadata": {
        "id": "zt_QrpfTPWH_"
      },
      "source": [
        "## Introduction\n",
        "\n",
        " \n",
        "\n",
        " "
      ],
      "id": "zt_QrpfTPWH_"
    },
    {
      "cell_type": "markdown",
      "metadata": {
        "id": "68c58i10PdC_"
      },
      "source": [
        "## Problem Statement \n",
        "Question: How to use machine learning to predict the diameter of asteroids and classify them as physically hazardous.\n",
        "* Asteroid diameter prediction based upon Asteroid_Updated.csv from Kaggle.\n",
        "* Predict whether an asteroid is physically hazardous to Earth. \n",
        "\n",
        "* Success measures:\n",
        "\t* 5 - 10 fold CV accuracy for all models\n",
        "\t* Regression models: R^2 score\n",
        "\t* Classification models: Precision, Recall, ROC/AUC\n",
        "\t\n",
        "* Hope to achieve >85% R^2 for regression models (based upon kaggle responses) and then >=80% precision and recall for the classification models (low goal based on amount of data for imbalanced classes)."
      ],
      "id": "68c58i10PdC_"
    },
    {
      "cell_type": "markdown",
      "metadata": {
        "id": "HXUWhVcvPst7"
      },
      "source": [
        "### Related Work\n",
        "\n",
        "**Link to other work:** [Asteroid Diameter Estimators with added difficulty](https://www.kaggle.com/liamkesatoran/asteroid-diameter-estimators-with-added-difficulty)"
      ],
      "id": "HXUWhVcvPst7"
    },
    {
      "cell_type": "markdown",
      "metadata": {
        "id": "-1bMdj7LP18_"
      },
      "source": [
        "## Data Management \n",
        "- Describe how did you evaluate your solution\n",
        "- What evaluation metrics did you use?\n",
        "- Describe a baseline system\n",
        "- How much did your system outperform the baseline?\n",
        "- Were there other systems evaluated on the same dataset? How did your system do in comparison to theirs?\n",
        "- Show graphs/tables with results\n",
        "- Error analysis\n",
        "- Suggestions for future improvements\n",
        "\n",
        "Description of the dataset (dimensions, names of variables with their description)"
      ],
      "id": "-1bMdj7LP18_"
    },
    {
      "cell_type": "markdown",
      "metadata": {
        "id": "Gx3izY9jQFjT"
      },
      "source": [
        "### Data Gathering\n"
      ],
      "id": "Gx3izY9jQFjT"
    },
    {
      "cell_type": "markdown",
      "metadata": {
        "id": "tTrxHhyaQL9I"
      },
      "source": [
        "#### *Motivation*\n",
        "This database was acquired from the Jet Propulsion Laboratory at California Institute of Technology's \"Solar System Dynamics\" on behalf of NASA. This information is related to the orbits, physical and characteristics, and discovery cirumstances for most known natural bodies in our solar system\n"
      ],
      "id": "tTrxHhyaQL9I"
    },
    {
      "cell_type": "markdown",
      "metadata": {
        "id": "3p_HO92KQR5R"
      },
      "source": [
        "#### *Composition*\n",
        "\t\n",
        "| Feature | Description | Dtype | Null |\n",
        "| ------- | ----------------- | ------ | :------: |\n",
        "| a | Semi-major axis(au) | float64 | 2 |\n",
        "| e | Eccentricity | float64 | 0 |\n",
        "| i | Inclination with respect to x-y ecliptic plain(deg) | float64 | 0 |\n",
        "| om | Longitude of the ascending node | float64 | 0 |\n",
        "| w | Argument of perihelion | float64 | 0 |\n",
        "| q | Perihelion distance(au) | float64 | 0 |\n",
        "| ad | Aphelion distance(au) | float64 | 6 |\n",
        "| per_y | Oribital period(YEARS) | float64 | 1 |\n",
        "| data_arc | Data arc-span(d) | float64 | 15474 |\n",
        "| condition_code | Orbit condition code | object | 867 |\n",
        "| n_obs_used | Number of Observation used | int64 | 0 |\n",
        "| H | Absolute magnitude parameter | float64 | 2689 |\n",
        "| neo | Near Earth Object | object | 6 |\n",
        "| pha | Physically Hazardous Asteroid | object | 16442 |\n",
        "| diameter | Diameter of asteroid(Km) | object | 702078 |\n",
        "| extent | Object bi/tri axial ellipsoid dimensions(Km) | object | 839696 |\n",
        "| albedo | Geometric albedo | float64 | 703305 |\n",
        "| rot_per | Rotation Period(h) | float64 | 820918 |\n",
        "| GM | Standard gravitational parameter, Product of mass and gravitational constant | float64 | 839700 |\n",
        "| BV | Color index B-V magnitude difference | float64 | 838693 |\n",
        "| UB | Color index U-B magnitude difference | float64 | 838735 |\n",
        "| IR | Color index I-R magnitude difference | float64 | 839713 |\n",
        "| spec_B | Spectral taxonomic type(SMASSII) | object | 838048 |\n",
        "| spec_T | Spectral taxonomic type(Tholen) | object | 838734 |\n",
        "| G | Magnitude slope parameter | float64 | 839595 |\n",
        "| moid | Earth minimum orbit intersection distance(au) | float64 | 16442 |\n",
        "| class | Asteroid orbit class | object | 0 |\n",
        "| n | Mean motion(deg/d) | float64 | 2 |\n",
        "| per | Orbital period(d) | float64 | 6 |\n",
        "| ma | Mean anomaly(deg) | float64 | 8 |\n",
        "\n",
        "* Shape: (839714 , 31)\n",
        "* Memory usage: 198.6+ MB\n",
        "\n",
        "**Dataset found here:** [Asteroid_Updated.csv](https://www.kaggle.com/basu369victor/prediction-of-asteroid-diameter?select=Asteroid_Updated.csv)"
      ],
      "id": "3p_HO92KQR5R"
    },
    {
      "cell_type": "markdown",
      "metadata": {
        "id": "SUAle7zJQY7_"
      },
      "source": [
        "### Data Pre-processing, Cleaning, Labeling, and Maintenance \n",
        "\n",
        "- Read in the .csv and visualized .head() and .info()\n",
        "- Checked the number of Null values. If the sum of null values are > 700,000, we dropped the column\n",
        "- If the remaining column has only Nulls, it is dropped\n",
        "- If the remaining rows contain any Nulls, it is dropped"
      ],
      "id": "SUAle7zJQY7_"
    },
    {
      "cell_type": "code",
      "metadata": {
        "colab": {
          "base_uri": "https://localhost:8080/"
        },
        "id": "sb9SJ_WLwNpJ",
        "outputId": "05aea30a-89c6-421e-f4c0-ff1ba1ebd073"
      },
      "source": [
        "from google.colab import drive\n",
        "drive.mount('/content/drive')"
      ],
      "id": "sb9SJ_WLwNpJ",
      "execution_count": 2,
      "outputs": [
        {
          "output_type": "stream",
          "name": "stdout",
          "text": [
            "Mounted at /content/drive\n"
          ]
        }
      ]
    },
    {
      "cell_type": "code",
      "metadata": {
        "colab": {
          "base_uri": "https://localhost:8080/"
        },
        "id": "684738b6",
        "outputId": "e9a53724-6c34-4daf-8819-13774341192a"
      },
      "source": [
        "import pandas as pd\n",
        "df = pd.read_csv(\"/content/drive/MyDrive/ML/Project/Asteroid_Updated.csv\")\n",
        "#df= pd.read_csv(\"./Asteroid_Updated.csv\")\n",
        "df.info()"
      ],
      "id": "684738b6",
      "execution_count": 4,
      "outputs": [
        {
          "output_type": "stream",
          "name": "stderr",
          "text": [
            "/usr/local/lib/python3.7/dist-packages/IPython/core/interactiveshell.py:2718: DtypeWarning: Columns (0,10,15,16,23,24) have mixed types.Specify dtype option on import or set low_memory=False.\n",
            "  interactivity=interactivity, compiler=compiler, result=result)\n"
          ]
        },
        {
          "output_type": "stream",
          "name": "stdout",
          "text": [
            "<class 'pandas.core.frame.DataFrame'>\n",
            "RangeIndex: 839714 entries, 0 to 839713\n",
            "Data columns (total 31 columns):\n",
            " #   Column          Non-Null Count   Dtype  \n",
            "---  ------          --------------   -----  \n",
            " 0   name            21967 non-null   object \n",
            " 1   a               839712 non-null  float64\n",
            " 2   e               839714 non-null  float64\n",
            " 3   i               839714 non-null  float64\n",
            " 4   om              839714 non-null  float64\n",
            " 5   w               839714 non-null  float64\n",
            " 6   q               839714 non-null  float64\n",
            " 7   ad              839708 non-null  float64\n",
            " 8   per_y           839713 non-null  float64\n",
            " 9   data_arc        824240 non-null  float64\n",
            " 10  condition_code  838847 non-null  object \n",
            " 11  n_obs_used      839714 non-null  int64  \n",
            " 12  H               837025 non-null  float64\n",
            " 13  neo             839708 non-null  object \n",
            " 14  pha             823272 non-null  object \n",
            " 15  diameter        137636 non-null  object \n",
            " 16  extent          18 non-null      object \n",
            " 17  albedo          136409 non-null  float64\n",
            " 18  rot_per         18796 non-null   float64\n",
            " 19  GM              14 non-null      float64\n",
            " 20  BV              1021 non-null    float64\n",
            " 21  UB              979 non-null     float64\n",
            " 22  IR              1 non-null       float64\n",
            " 23  spec_B          1666 non-null    object \n",
            " 24  spec_T          980 non-null     object \n",
            " 25  G               119 non-null     float64\n",
            " 26  moid            823272 non-null  float64\n",
            " 27  class           839714 non-null  object \n",
            " 28  n               839712 non-null  float64\n",
            " 29  per             839708 non-null  float64\n",
            " 30  ma              839706 non-null  float64\n",
            "dtypes: float64(21), int64(1), object(9)\n",
            "memory usage: 198.6+ MB\n"
          ]
        }
      ]
    },
    {
      "cell_type": "markdown",
      "metadata": {
        "id": "2b303df2"
      },
      "source": [
        "Print the sum of null values to determine which columns had a high percentage of null values."
      ],
      "id": "2b303df2"
    },
    {
      "cell_type": "code",
      "metadata": {
        "colab": {
          "base_uri": "https://localhost:8080/"
        },
        "id": "adbc5771",
        "outputId": "6fbe2d9c-ae67-4d80-f392-cf2a62980aaa"
      },
      "source": [
        "print(df.shape)\n",
        "print(df.isnull().sum())"
      ],
      "id": "adbc5771",
      "execution_count": 5,
      "outputs": [
        {
          "output_type": "stream",
          "name": "stdout",
          "text": [
            "(839714, 31)\n",
            "name              817747\n",
            "a                      2\n",
            "e                      0\n",
            "i                      0\n",
            "om                     0\n",
            "w                      0\n",
            "q                      0\n",
            "ad                     6\n",
            "per_y                  1\n",
            "data_arc           15474\n",
            "condition_code       867\n",
            "n_obs_used             0\n",
            "H                   2689\n",
            "neo                    6\n",
            "pha                16442\n",
            "diameter          702078\n",
            "extent            839696\n",
            "albedo            703305\n",
            "rot_per           820918\n",
            "GM                839700\n",
            "BV                838693\n",
            "UB                838735\n",
            "IR                839713\n",
            "spec_B            838048\n",
            "spec_T            838734\n",
            "G                 839595\n",
            "moid               16442\n",
            "class                  0\n",
            "n                      2\n",
            "per                    6\n",
            "ma                     8\n",
            "dtype: int64\n"
          ]
        }
      ]
    },
    {
      "cell_type": "markdown",
      "metadata": {
        "id": "aUGennLHwnwh"
      },
      "source": [
        "When looking at the dataset we noticed that some of the columns with large amounts of null values were actually just categorical columns so we utilized maps and Label Encoding to transform the categorical data to numeric."
      ],
      "id": "aUGennLHwnwh"
    },
    {
      "cell_type": "code",
      "metadata": {
        "id": "0eb43880"
      },
      "source": [
        "from sklearn.preprocessing import LabelEncoder as le\n",
        "\n",
        "df['pha'] = df['pha'].map({'Y': 1, 'N': 0})\n",
        "df['neo'] = df['neo'].map({'Y': 1, 'N': 0})\n",
        "df['condition_code'] = df['condition_code'].map({0: 1, 1: 2, 2: 3, 3: 4, 4: 5, 5: 6, 6: 7, 7: 8, 8: 9, 9: 10, 'D': 11, 'E': 12})\n",
        "df['class'] = le().fit_transform(df['class'])\n",
        "\n",
        "columns = ['name', 'extent', 'albedo', 'rot_per', 'GM', 'BV', 'G', 'UB', 'IR', 'pha', 'spec_B', 'spec_T']\n",
        "df = df.drop(columns=columns)"
      ],
      "id": "0eb43880",
      "execution_count": 6,
      "outputs": []
    },
    {
      "cell_type": "markdown",
      "metadata": {
        "id": "e2c9d9d6"
      },
      "source": [
        "Drop the columns with high amount of null values. Keeping diameter since it is the target for regression."
      ],
      "id": "e2c9d9d6"
    },
    {
      "cell_type": "code",
      "metadata": {
        "id": "98115f66",
        "colab": {
          "base_uri": "https://localhost:8080/"
        },
        "outputId": "829bef5c-7488-4027-cc35-04d66a5e02dd"
      },
      "source": [
        "print(df.isnull().sum())"
      ],
      "id": "98115f66",
      "execution_count": 7,
      "outputs": [
        {
          "output_type": "stream",
          "name": "stdout",
          "text": [
            "a                      2\n",
            "e                      0\n",
            "i                      0\n",
            "om                     0\n",
            "w                      0\n",
            "q                      0\n",
            "ad                     6\n",
            "per_y                  1\n",
            "data_arc           15474\n",
            "condition_code    249756\n",
            "n_obs_used             0\n",
            "H                   2689\n",
            "neo                    6\n",
            "diameter          702078\n",
            "moid               16442\n",
            "class                  0\n",
            "n                      2\n",
            "per                    6\n",
            "ma                     8\n",
            "dtype: int64\n"
          ]
        }
      ]
    },
    {
      "cell_type": "markdown",
      "metadata": {
        "id": "b29bedee"
      },
      "source": [
        "After running into issues with incorrect datatypes, we found we needed to go through the data and turn the values into numerical values and those that did not become numeric, were dropped.\n",
        "\n",
        "We then printed the sum of nulls to check that the dataframe had no null values."
      ],
      "id": "b29bedee"
    },
    {
      "cell_type": "code",
      "metadata": {
        "colab": {
          "base_uri": "https://localhost:8080/"
        },
        "id": "8ec9d609",
        "outputId": "c717898b-9525-461c-e01c-d14adab99f27"
      },
      "source": [
        "df = df.apply(lambda x: pd.to_numeric(x, errors='coerce'))\n",
        "df['diameter'].astype(float)\n",
        "df.dropna(how='all', axis=1, inplace=True)\n",
        "df.dropna(how='any', axis=0, inplace=True)\n",
        "\n",
        "print(df.shape)\n",
        "print(df.isnull().sum())\n",
        "print(df.dtypes)"
      ],
      "id": "8ec9d609",
      "execution_count": 8,
      "outputs": [
        {
          "output_type": "stream",
          "name": "stdout",
          "text": [
            "(127910, 19)\n",
            "a                 0\n",
            "e                 0\n",
            "i                 0\n",
            "om                0\n",
            "w                 0\n",
            "q                 0\n",
            "ad                0\n",
            "per_y             0\n",
            "data_arc          0\n",
            "condition_code    0\n",
            "n_obs_used        0\n",
            "H                 0\n",
            "neo               0\n",
            "diameter          0\n",
            "moid              0\n",
            "class             0\n",
            "n                 0\n",
            "per               0\n",
            "ma                0\n",
            "dtype: int64\n",
            "a                 float64\n",
            "e                 float64\n",
            "i                 float64\n",
            "om                float64\n",
            "w                 float64\n",
            "q                 float64\n",
            "ad                float64\n",
            "per_y             float64\n",
            "data_arc          float64\n",
            "condition_code    float64\n",
            "n_obs_used          int64\n",
            "H                 float64\n",
            "neo               float64\n",
            "diameter          float64\n",
            "moid              float64\n",
            "class               int64\n",
            "n                 float64\n",
            "per               float64\n",
            "ma                float64\n",
            "dtype: object\n"
          ]
        }
      ]
    },
    {
      "cell_type": "markdown",
      "metadata": {
        "id": "D6crj_N_RgyL"
      },
      "source": [
        "### Exploratory Data Analysis \n",
        "\n",
        "Methods\n",
        "* Visualization\n",
        "  * seaborn pairplot - Used to see the interactions between features and the target values for both regression and classification\n",
        "  * correlation heatmap - Used as a secondary source to visualize the strength of correlation between features and targets. \n",
        "* ANOVA\n",
        "  * We utilized ANOVA to select and transform our dataset to keep the top 10 features in the dataset.\n",
        "\n",
        "All of our methods came up with similar conclusions as to what features were deemed most important to our targets. Because of this, we saw an increase in accuracy values once we transformed the feature set to only contain these top 10."
      ],
      "id": "D6crj_N_RgyL"
    },
    {
      "cell_type": "code",
      "metadata": {
        "id": "nbPZzVHZVb9H"
      },
      "source": [
        "import seaborn as sns\n",
        "\n",
        "sns.set(style=\"dark\", color_codes=True)\n",
        "g = sns.pairplot(data=df)\n",
        "\n",
        "import matplotlib.pyplot as plt\n",
        "plt.show()"
      ],
      "id": "nbPZzVHZVb9H",
      "execution_count": null,
      "outputs": []
    },
    {
      "cell_type": "code",
      "metadata": {
        "id": "BrNI-UE6Vc9F"
      },
      "source": [
        "plt.subplots(figsize = (16,15))\n",
        "sns.heatmap(df.corr(),annot=True, annot_kws={'size':10})\n",
        "# per, moid, H, per_y, ad, q, a"
      ],
      "id": "BrNI-UE6Vc9F",
      "execution_count": null,
      "outputs": []
    },
    {
      "cell_type": "markdown",
      "metadata": {
        "id": "7c94d9c5"
      },
      "source": [
        "### Determine Feature Selection"
      ],
      "id": "7c94d9c5"
    },
    {
      "cell_type": "code",
      "metadata": {
        "id": "027cbd55"
      },
      "source": [
        "y = df.diameter\n",
        "x = df.drop(columns=['diameter'])"
      ],
      "id": "027cbd55",
      "execution_count": 9,
      "outputs": []
    },
    {
      "cell_type": "code",
      "metadata": {
        "id": "68ddb3dd",
        "colab": {
          "base_uri": "https://localhost:8080/"
        },
        "outputId": "e76cb10f-3830-40aa-f401-c892b9f4b067"
      },
      "source": [
        "from sklearn.feature_selection import SelectKBest\n",
        "# ANOVA on features on target to determine which features are significant\n",
        "anova = SelectKBest(k=10)\n",
        "# fitting ANOVA model with features and target\n",
        "transX = anova.fit_transform(x, y)\n",
        "\n",
        "for i in range(len(x.columns)):\n",
        "    print(f'{x.columns[i]}: {anova.scores_[i]}')\n",
        "\n",
        "print(transX.shape)"
      ],
      "id": "68ddb3dd",
      "execution_count": 10,
      "outputs": [
        {
          "output_type": "stream",
          "name": "stdout",
          "text": [
            "a: 31.637196697611962\n",
            "e: 1.7842577610228874\n",
            "i: 1.6621992239947543\n",
            "om: 1.0029678571803067\n",
            "w: 0.9957726525102564\n",
            "q: 11.095961249580856\n",
            "ad: 32.88636968270681\n",
            "per_y: 40.74103699750826\n",
            "data_arc: 8.099009943513074\n",
            "condition_code: 0.5430670263398989\n",
            "n_obs_used: 4.7797993210753\n",
            "H: 17.841635817082636\n",
            "neo: 10.855769669869455\n",
            "moid: 11.16751345814331\n",
            "class: 9.089789442546143\n",
            "n: 9.203233992108766\n",
            "per: 40.74103699750819\n",
            "ma: 1.0542990472843297\n",
            "(127910, 10)\n"
          ]
        }
      ]
    },
    {
      "cell_type": "markdown",
      "metadata": {
        "id": "W-BRrGPzuEss"
      },
      "source": [
        "Based on the ANOVA, heatmap, and pairplot we can see that there are multiple features that have high importance when determining diameter. \n",
        "\n",
        "\n",
        "1.   per / per_y\n",
        "2.   ad\n",
        "3.   a\n",
        "4.   H\n",
        "5.   q\n",
        "6.   moid\n",
        "7.   neo\n",
        "8.   n\n",
        "9.   class\n",
        "10.  data_arc"
      ],
      "id": "W-BRrGPzuEss"
    },
    {
      "cell_type": "markdown",
      "metadata": {
        "id": "UIGpx4HPRnRc"
      },
      "source": [
        "## Machine Learning Approaches\n",
        "\n",
        "We tried multiple models for our regression prediction. When it came to parameter tuning, some took an excessive amount of resources and we chose to look elsewhere. If a model performed badly after gridsearch and 10-fold cross validation, we looked into more data and other methods of improving but inevitably found other models that performed well with less tuning and less computational cost. \n",
        "\n",
        "**All attempted models**\n",
        "\n",
        "Regression:\n",
        "*   Random Forest \n",
        "*   KNN\n",
        "*   SGD\n",
        "*   Lasso\n",
        "*   Ridge\n",
        "*   SVR\n",
        "\n",
        "Classification\n",
        "*   Logistic Regression\n",
        "\n"
      ],
      "id": "UIGpx4HPRnRc"
    },
    {
      "cell_type": "markdown",
      "metadata": {
        "id": "Qghs-LGORqlX"
      },
      "source": [
        "### Describe the ML methods that you used and the reasons for their choice. \n",
        "What is the family of machine learnign algorithms you are using and why? \n",
        "* Supervised or Unsupervised?\n",
        "* Regression or classification?"
      ],
      "id": "Qghs-LGORqlX"
    },
    {
      "cell_type": "markdown",
      "metadata": {
        "id": "dDrmstW-Rtcz"
      },
      "source": [
        "### Justify ML algorithms in terms of the problem itself and the methods you want to use. \n",
        "* How did you employ them? \n",
        "* What features worked well and what didn't?\n",
        "* Provide documentation for integration  "
      ],
      "id": "dDrmstW-Rtcz"
    },
    {
      "cell_type": "markdown",
      "metadata": {
        "id": "wRkCPS8YRvg4"
      },
      "source": [
        "### Tools and Infrastructure Tried and Not Used\n",
        "\n",
        "Describe any tools and infrastruicture that you tried and ended up not using.\n",
        "What was the problem? \n",
        "Describe infrastructure used. "
      ],
      "id": "wRkCPS8YRvg4"
    },
    {
      "cell_type": "markdown",
      "metadata": {
        "id": "Yg0_ctU3nYie"
      },
      "source": [
        "### **Regression Models for predicting diameter**"
      ],
      "id": "Yg0_ctU3nYie"
    },
    {
      "cell_type": "code",
      "metadata": {
        "id": "SqgFkEp-tbU2"
      },
      "source": [
        "from sklearn.model_selection import train_test_split\n",
        "from sklearn.model_selection import GridSearchCV\n",
        "\n",
        "x_train, x_test, y_train, y_test = train_test_split(transX ,y, test_size = 0.2, random_state=1)"
      ],
      "id": "SqgFkEp-tbU2",
      "execution_count": 11,
      "outputs": []
    },
    {
      "cell_type": "markdown",
      "metadata": {
        "id": "7924b2f2"
      },
      "source": [
        "#### KNN Regressor"
      ],
      "id": "7924b2f2"
    },
    {
      "cell_type": "code",
      "metadata": {
        "id": "cf134a76",
        "colab": {
          "base_uri": "https://localhost:8080/"
        },
        "outputId": "8a26de8a-7f9d-4c6a-f2c0-c47ce452f5ae"
      },
      "source": [
        "from sklearn.neighbors import KNeighborsRegressor\n",
        "\n",
        "knn = KNeighborsRegressor()\n",
        "knn.fit(x_train, y_train)\n",
        "print(\"Base KNN score:\", knn.score(x_test,y_test))"
      ],
      "id": "cf134a76",
      "execution_count": 12,
      "outputs": [
        {
          "output_type": "stream",
          "name": "stdout",
          "text": [
            "Base KNN score: 0.6614015777427037\n"
          ]
        }
      ]
    },
    {
      "cell_type": "code",
      "metadata": {
        "id": "6b495142"
      },
      "source": [
        "\"\"\"\n",
        "param_grid = {'n_neighbors' : [3],\n",
        "                'weights' : ['distance'],\n",
        "                'metric' : ['chebyshev','euclidean', ]\n",
        "                 }\n",
        "\n",
        "gs = GridSearchCV(estimator=knn, param_grid=param_grid, scoring='r2', cv=10)\n",
        "gs = gs.fit(x_train, y_train)\n",
        "print(gs.best_params_)\n",
        "print(gs.best_score_)\n",
        "\"\"\""
      ],
      "id": "6b495142",
      "execution_count": null,
      "outputs": []
    },
    {
      "cell_type": "markdown",
      "metadata": {
        "id": "J7IGQDNiotwC"
      },
      "source": [
        "After running the grid search with the parameter grid above, the following parameters were selected as the best performing\n",
        "\n",
        "*   n_neighbors: 3\n",
        "*   weights: 'distance'\n",
        "*   metric: 'euclidean'"
      ],
      "id": "J7IGQDNiotwC"
    },
    {
      "cell_type": "code",
      "metadata": {
        "id": "c6773a82",
        "colab": {
          "base_uri": "https://localhost:8080/"
        },
        "outputId": "b0f3e259-b547-496d-871a-c740eddfe15b"
      },
      "source": [
        "\n",
        "bestKNN = KNeighborsRegressor(n_neighbors=3, weights='distance', metric='euclidean')\n",
        "bestKNN.fit(x_train, y_train)\n",
        "bestKNN.score(x_test,y_test)"
      ],
      "id": "c6773a82",
      "execution_count": 14,
      "outputs": [
        {
          "output_type": "execute_result",
          "data": {
            "text/plain": [
              "0.6366782862195837"
            ]
          },
          "metadata": {},
          "execution_count": 14
        }
      ]
    },
    {
      "cell_type": "code",
      "metadata": {
        "id": "0a9a5c68",
        "colab": {
          "base_uri": "https://localhost:8080/"
        },
        "outputId": "5314c370-672c-4ab1-adfd-cabba655ce08"
      },
      "source": [
        "bestKNN = KNeighborsRegressor(n_neighbors=4, weights='distance', metric='euclidean')\n",
        "bestKNN.fit(x_train, y_train)\n",
        "bestKNN.score(x_test,y_test)"
      ],
      "id": "0a9a5c68",
      "execution_count": 15,
      "outputs": [
        {
          "output_type": "execute_result",
          "data": {
            "text/plain": [
              "0.6610111106089174"
            ]
          },
          "metadata": {},
          "execution_count": 15
        }
      ]
    },
    {
      "cell_type": "code",
      "metadata": {
        "id": "027b137a",
        "colab": {
          "base_uri": "https://localhost:8080/"
        },
        "outputId": "b21d98b3-38c3-4f45-b97f-eeb637eff107"
      },
      "source": [
        "bestKNN = KNeighborsRegressor(n_neighbors=5, weights='distance', metric='euclidean')\n",
        "bestKNN.fit(x_train, y_train)\n",
        "bestKNN.score(x_test,y_test)"
      ],
      "id": "027b137a",
      "execution_count": 16,
      "outputs": [
        {
          "output_type": "execute_result",
          "data": {
            "text/plain": [
              "0.6722015894259215"
            ]
          },
          "metadata": {},
          "execution_count": 16
        }
      ]
    },
    {
      "cell_type": "markdown",
      "metadata": {
        "id": "31f5daf5"
      },
      "source": [
        "#### Lasso Regressor\n"
      ],
      "id": "31f5daf5"
    },
    {
      "cell_type": "code",
      "metadata": {
        "id": "a3a58d1e",
        "colab": {
          "base_uri": "https://localhost:8080/"
        },
        "outputId": "b94dae6a-054d-44c2-9251-6d3f3097c7c7"
      },
      "source": [
        "from sklearn.linear_model import  Lasso\n",
        "\n",
        "lasso_base = Lasso()\n",
        "lasso_base.fit(x_train, y_train)\n",
        "pred_lasso = lasso_base.predict(x_test)\n",
        "print(\"Base lasso score: \", lasso_base.score(x_test,y_test))"
      ],
      "id": "a3a58d1e",
      "execution_count": 18,
      "outputs": [
        {
          "output_type": "stream",
          "name": "stdout",
          "text": [
            "Base lasso score:  0.3532033745553581\n"
          ]
        }
      ]
    },
    {
      "cell_type": "code",
      "metadata": {
        "id": "W2KbZevbtA-A"
      },
      "source": [
        "\"\"\"\n",
        "param_grid = [{'alpha':[1, 10, 25, 100, 500]},\n",
        "              {'max_iter':[1000, 100, 500, 5000, 25000, 100000]},\n",
        "              {'tol':[1e-4, 1e-6, 1e-10]},\n",
        "              {'selection':['cyclic','random']},\n",
        "              {'random_state':[10, 75, 200, 500, 1337, 5000]}]\n",
        "gs = GridSearchCV(estimator=lasso, param_grid=param_grid, scoring='r2', cv=7, return_train_score=True)\n",
        "lasso.fit(x_train, y_train)\n",
        "gs = gs.fit(x_train, y_train)\n",
        "print(gs.best_params_)\n",
        "print(gs.best_score_)\n",
        "\"\"\""
      ],
      "id": "W2KbZevbtA-A",
      "execution_count": null,
      "outputs": []
    },
    {
      "cell_type": "code",
      "metadata": {
        "id": "i4Fmep5zxQJG"
      },
      "source": [
        ""
      ],
      "id": "i4Fmep5zxQJG",
      "execution_count": null,
      "outputs": []
    },
    {
      "cell_type": "markdown",
      "metadata": {
        "id": "4b63ce81"
      },
      "source": [
        "Parameter Tuning Results with Lasso\n",
        "\n",
        "Alpha:\n",
        "    When an alpha of 0 was available, it was always chosen and values were 0.36 for alpha = 0 and -.37 for alpha = 0.5. Any larger alpha values were not selected for by param_grid.\n",
        "\n",
        "Selection:\n",
        "    When alpha was not less than one, selection was chosen for, and 'random' was selected for as the type of selection. This gave a score of -.49.\n",
        "\n",
        "Max_iter:\n",
        "    When not tuning for selection, a max_iter of 1000 was selected with a score of -.49.\n",
        "\n",
        "tol (tolerance):\n",
        "    When not tuning for selection or max_iter, a tol of 0.0001 was chosen for with a score of -.49 once again.\n",
        "\n",
        "Random_state:\n",
        "    When not tuning for selection,max_iter, or tol a random state of 10 was chosen with the same score of -.49.\n",
        "\n",
        "cv values:\n",
        "    Any cv value that was under 7 gave a result that was larger than 1, getting larger the closer cv got to 0. The above values were calculated with cv=8, but with cv=7 a value of -.56 was obtained. The higher cv value the closer to 0 we got"
      ],
      "id": "4b63ce81"
    },
    {
      "cell_type": "markdown",
      "metadata": {
        "id": "5beb5a30"
      },
      "source": [
        "#### Gradient Boosting Regressor"
      ],
      "id": "5beb5a30"
    },
    {
      "cell_type": "markdown",
      "metadata": {
        "id": "5beee6aa"
      },
      "source": [
        "A fitted GBR model using it's default paramters. n_estimators = 100"
      ],
      "id": "5beee6aa"
    },
    {
      "cell_type": "code",
      "metadata": {
        "id": "50b9a77a",
        "colab": {
          "base_uri": "https://localhost:8080/"
        },
        "outputId": "504ff2d9-3823-4b6c-976c-ea7c463340db"
      },
      "source": [
        "from sklearn.ensemble import GradientBoostingRegressor\n",
        "\n",
        "gbr = GradientBoostingRegressor(random_state=0)\n",
        "gbr.fit(x_train, y_train)\n",
        "print(\"Base GBR score: \",gbr.score(x_test, y_test))"
      ],
      "id": "50b9a77a",
      "execution_count": 20,
      "outputs": [
        {
          "output_type": "stream",
          "name": "stdout",
          "text": [
            "Base GBR score:  0.8695201784952427\n"
          ]
        }
      ]
    },
    {
      "cell_type": "code",
      "metadata": {
        "id": "b7ffce05"
      },
      "source": [
        "\"\"\"\n",
        "param_grid = {'n_estimators' : [105],\n",
        "             }\n",
        "gbr = GradientBoostingRegressor()\n",
        "gs = GridSearchCV(estimator=gbr, param_grid=param_grid, scoring='r2', cv=10)\n",
        "gs = gs.fit(x_train, y_train)\n",
        "print(gs.best_params_)\n",
        "print(gs.best_score_)\n",
        "\"\"\""
      ],
      "id": "b7ffce05",
      "execution_count": null,
      "outputs": []
    },
    {
      "cell_type": "markdown",
      "metadata": {
        "id": "xkgtD2jEom6u"
      },
      "source": [
        "After running the grid search with the parameter grid above, the following parameters were selected as the best performing\n",
        "\n",
        "*   n_estimators: 105"
      ],
      "id": "xkgtD2jEom6u"
    },
    {
      "cell_type": "code",
      "metadata": {
        "id": "53e6fb90",
        "colab": {
          "base_uri": "https://localhost:8080/"
        },
        "outputId": "1b6d022b-0cdc-4601-baff-6187a662683b"
      },
      "source": [
        "gbr = GradientBoostingRegressor(n_estimators=105, random_state=0)\n",
        "gbr.fit(x_train, y_train)\n",
        "print(\"Optimal GBR score: \",gbr.score(x_test, y_test))"
      ],
      "id": "53e6fb90",
      "execution_count": 22,
      "outputs": [
        {
          "output_type": "stream",
          "name": "stdout",
          "text": [
            "Optimal GBR score:  0.870096168095368\n"
          ]
        }
      ]
    },
    {
      "cell_type": "markdown",
      "metadata": {
        "id": "A5ZT30RhmGry"
      },
      "source": [
        "####Random Forest Regressor"
      ],
      "id": "A5ZT30RhmGry"
    },
    {
      "cell_type": "code",
      "metadata": {
        "id": "L3QZda4-mLvW",
        "colab": {
          "base_uri": "https://localhost:8080/"
        },
        "outputId": "071a589f-bf85-4520-9a5c-a4628b9bc118"
      },
      "source": [
        "from sklearn.ensemble import RandomForestRegressor\n",
        "\n",
        "rf_base = RandomForestRegressor()\n",
        "\n",
        "rf_base.fit(x_train, y_train)\n",
        "pred_rf_base = rf_base.predict(x_test)\n",
        "print(\"Base RF score: \",rf_base.score(x_test,y_test))"
      ],
      "id": "L3QZda4-mLvW",
      "execution_count": 24,
      "outputs": [
        {
          "output_type": "stream",
          "name": "stdout",
          "text": [
            "Base RF score:  0.8831624639713547\n"
          ]
        }
      ]
    },
    {
      "cell_type": "code",
      "metadata": {
        "id": "0KzjpCCamVOI"
      },
      "source": [
        "\"\"\"\n",
        "param_grid = [{'n_estimators' : [100, 150, 200, 250, 300],\n",
        "               'max_depth' : [None, 10, 20, 30, 40],\n",
        "               'min_samples_split' : [2, 3, 4]}]\n",
        "\n",
        "gs = GridSearchCV(estimator=rf, param_grid=param_grid, scoring='r2', cv=10, return_train_score=True)\n",
        "gs.fit(xtrain,ytrain)\n",
        "print(\"\\nBest parameters: \",gs.best_params_)\n",
        "print(gs.best_score_)\n",
        "\"\"\""
      ],
      "id": "0KzjpCCamVOI",
      "execution_count": null,
      "outputs": []
    },
    {
      "cell_type": "markdown",
      "metadata": {
        "id": "M-1gYlnjmgug"
      },
      "source": [
        "After running the grid search with the parameter grid above, the following parameters were selected as the best performing\n",
        "\n",
        "*   n_estimators: \n",
        "*   max_depth\n",
        "*   min_samples_split:\n"
      ],
      "id": "M-1gYlnjmgug"
    },
    {
      "cell_type": "code",
      "metadata": {
        "id": "6IePLtoCmdhr"
      },
      "source": [
        "rf_opt = RandomForestRegressor(n_estimators=150)\n",
        "\n",
        "rf_opt.fit(x_train, y_train)\n",
        "pred_rf_opt = rf_opt.predict(x_test)\n",
        "print(\"Optimal RF score: \", rf_opt.score(x_test,y_test))"
      ],
      "id": "6IePLtoCmdhr",
      "execution_count": null,
      "outputs": []
    },
    {
      "cell_type": "markdown",
      "metadata": {
        "id": "9vnCK6gOnlw3"
      },
      "source": [
        "###**Classification models for predicting if an asteroid is hazardous:**"
      ],
      "id": "9vnCK6gOnlw3"
    },
    {
      "cell_type": "markdown",
      "metadata": {
        "id": "rJ4qE_V_vFrC"
      },
      "source": [
        "#### Logistic Regression"
      ],
      "id": "rJ4qE_V_vFrC"
    },
    {
      "cell_type": "code",
      "metadata": {
        "id": "O3nVkTPanwEP"
      },
      "source": [
        "from sklearn.linear_model import LinearRegression as lr\n",
        "\n",
        "x_train, x_test, y_train, y_test = train_test_split(x_c, y_c, test_size=.2, stratify=y_c, random_state=1)\n",
        "\n",
        "lreg = lr()\n",
        "lreg.fit(x_train, y_train)\n",
        "pred = lreg.predict(xtest)\n",
        "print(\"Log Reg: \", lreg.score(pred,y_test))"
      ],
      "id": "O3nVkTPanwEP",
      "execution_count": null,
      "outputs": []
    },
    {
      "cell_type": "markdown",
      "metadata": {
        "id": "xoXpypmARyRH"
      },
      "source": [
        "## Experiments\n",
        "\n",
        "Give a detailed summary of the results of your work.\n",
        "\n",
        " * Setup - Here is where you specify the exact performance measures you used.  \n",
        "   * Describe the data used in experiment for presenting dataset: Datasheets for Dataset template \n",
        "   * Describe your accuracy or quality measure, and your performance (runtime or throughput) measure. \n",
        "   \n",
        " * Please use visualizations whenever possible. Include links to interactive visualizations if you built them. \n",
        " \n",
        " * You can also submit a separated notebook as an appendix to your report if that makes the visualization/interaction task easier. \n",
        "   * It would be reasonable to submit your report as a notebook, but please make sure it runs on one of the two standard environments, and that you include any required files. "
      ],
      "id": "xoXpypmARyRH"
    },
    {
      "cell_type": "markdown",
      "metadata": {
        "id": "EwCLvvZQR1o9"
      },
      "source": [
        "## Conclusion\n",
        "In this section give a high-level summary of your results. If the reader only reads one section of the report, this one should be it, and it should be self-contained.  You can refer back to the Experiments Section for elaborations. This section should be less than a page. In particular emphasize any results that were surprising."
      ],
      "id": "EwCLvvZQR1o9"
    },
    {
      "cell_type": "markdown",
      "metadata": {
        "id": "Dj7T851TR3I_"
      },
      "source": [
        "## References\n",
        "List the references that cited in your project."
      ],
      "id": "Dj7T851TR3I_"
    },
    {
      "cell_type": "markdown",
      "metadata": {
        "id": "HGKLyQzqR5ar"
      },
      "source": [
        "## Appendix## \n",
        "\n",
        "Explain the contributions of each member to the project. Include all supporting materials, e.g., additional figures/tables, Python code technical derivations."
      ],
      "id": "HGKLyQzqR5ar"
    }
  ]
}