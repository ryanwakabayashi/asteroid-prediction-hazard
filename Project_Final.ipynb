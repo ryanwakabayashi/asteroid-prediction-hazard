{
 "cells": [
  {
   "cell_type": "markdown",
   "id": "3PzBhcp5PPsl",
   "metadata": {
    "id": "3PzBhcp5PPsl"
   },
   "source": [
    "# Predicting Diameter and Physical Harm of Asteroids using Machine Learning\n",
    "**Authors** :\n",
    "Colin Campbell (c_c953),  Leah Lewis (lrl68), Ryan Wakabayashi (rjw102) and Jake Worden (jrw294)\n",
    "\n",
    "**Abstract** :  [  ]"
   ]
  },
  {
   "cell_type": "markdown",
   "id": "zt_QrpfTPWH_",
   "metadata": {
    "id": "zt_QrpfTPWH_"
   },
   "source": [
    "## Introduction\n",
    "\n",
    "The ability to take in data on nearby asteroids and identify whether or not they are a threat to life on earth is important for civilization going forward. One of the most important attributes to identify if an asteroid is a threat is the diameter of the asteroid. Companies like Nasa and SpaceX are currently working on technologies to identify these threats and whether or not they will path towards earth. Because this is something that is currently being researched in the field, it is important to try and identify what other attributes will help identify how hazardous these asteroids will be. The goal of this project is to use machine learning techniques in order to correctly predict if an asteroid is considered physically hazardous or not based on features of the asteroid itself.\n",
    " \n",
    "\n",
    " "
   ]
  },
  {
   "cell_type": "markdown",
   "id": "68c58i10PdC_",
   "metadata": {
    "id": "68c58i10PdC_"
   },
   "source": [
    "## Problem Statement \n",
    "\n",
    "\n",
    "Given a dataset of asteroid features, can machine learning be used to predict an unknown asteriod's diameter and whether it's physically hazardous along with achieving the following sucess measures?\n",
    "\n",
    "\n",
    "| ML Approach |  CV Score | F1 | Precision | Recall | R^2 |\n",
    "| ---------- | :-----------: | :-----------: | :-----------: | :-----------: | :-----------: |\n",
    "| Regressing Diameter | >85% | - | - | - |  >85% |\n",
    "| Classifying Physically Hazardous Asteroid | ≥80% | ≥80% | ≥80% | ≥80% | - | "
   ]
  },
  {
   "cell_type": "markdown",
   "id": "HXUWhVcvPst7",
   "metadata": {
    "id": "HXUWhVcvPst7"
   },
   "source": [
    "## Related Work\n",
    "\n",
    "Each of the following kaggle projects attempted to apply machine learning to predict diameter of asteroids and served as a solid benchmark for this project: \n",
    "\n",
    "| Kaggle Project Title | Project Author | Project Description | Project Results | Link to Project |\n",
    "| ---------- | :-----------: | :-----------: | :-----------: | :-----------: |\n",
    "| Asteroid Diameter Estimators | needs | needs | needs |[See Kaggle](https://www.kaggle.com/liamkesatoran/asteroid-diameter-estimators-with-added-difficulty) |\n",
    "| Asteroid Diameter Prediction | needs | needs | needs |[See Kaggle](https://www.kaggle.com/titanpointe/asteroid)|"
   ]
  },
  {
   "cell_type": "markdown",
   "id": "-1bMdj7LP18_",
   "metadata": {
    "id": "-1bMdj7LP18_"
   },
   "source": [
    "## Data Management \n"
   ]
  },
  {
   "cell_type": "markdown",
   "id": "Gx3izY9jQFjT",
   "metadata": {
    "id": "Gx3izY9jQFjT"
   },
   "source": [
    "### Data Gathering\n",
    "\n",
    "Links to the database and dataset used can be found below:\n",
    "\n",
    "*Small-Body DataBase Link:* [Jet Propulsion Laboratory Solar System Dynamics](https://ssd.jpl.nasa.gov/sbdb_query.cgi)\n",
    "\n",
    "*Open Asteroid Dataset Link:* [Asteroid_Updated.csv](https://www.kaggle.com/basu369victor/prediction-of-asteroid-diameter?select=Asteroid_Updated.csv)"
   ]
  },
  {
   "cell_type": "markdown",
   "id": "tTrxHhyaQL9I",
   "metadata": {
    "id": "tTrxHhyaQL9I"
   },
   "source": [
    "#### Open Asteroid Dataset Description:\n",
    "\n",
    "1. The dataset was created on behalf of NASA by the Jet Propulsion Laboratory (JPL) at California Institute of Technology's \"Solar System Dynamics\"(SSD) group. One of the primary responsibilites of the SSD group is to maintain the Small-Body DataBase (SBDB) which is comprised of information relating to the orbits, physical parameters, discovery cirumstances and hazard assements for all known small-bodies in our solar system. In this context, small-bodies are defined as comets and asteroids, where “asteroids” includes Kuiper-belt objects (TNOs) and dwarf planets. This database is actively kept up-to-date, meaning as new data is made available for both new and existing small-bodies, new orbits are automatically computed typically within an hour or two.\n",
    "\n",
    "\n",
    "2. The dataset used here was gathered from the SSD's SBDB via the Open Asteroid Dataset challange posted on [Kaggle](https://www.kaggle.com/basu369victor/prediction-of-asteroid-diameter?select=Asteroid_Updated.csv).\n",
    "\n",
    "\n",
    "3. The dataset itself is composed of various instances of small-bodies, along with their respective oribital elements. A summary of each of these elements or features along with a brief desciption can be seen in the following table:\n",
    "\n",
    "| Feature | Description |\n",
    "| ------- | ----------- |\n",
    "| a | Semi-major axis(au) | \n",
    "| e | Eccentricity | \n",
    "| i | Inclination with respect to x-y ecliptic plain(deg) |\n",
    "| om | Longitude of the ascending node |\n",
    "| w | Argument of perihelion |\n",
    "| q | Perihelion distance(au) |\n",
    "| ad | Aphelion distance(au) |\n",
    "| per_y | Oribital period(YEARS) |\n",
    "| data_arc | Data arc-span(d) | float64 |\n",
    "| condition_code | Orbit condition code |\n",
    "| n_obs_used | Number of Observation used |\n",
    "| H | Absolute magnitude parameter |\n",
    "| neo | Near Earth Object | object |\n",
    "| pha | Physically Hazardous Asteroid |\n",
    "| diameter | Diameter of asteroid(Km) |\n",
    "| extent | Object bi/tri axial ellipsoid dimensions(Km) |\n",
    "| albedo | Geometric albedo |\n",
    "| rot_per | Rotation Period(h) |\n",
    "| GM | Standard gravitational parameter, Product of mass and gravitational constant |\n",
    "| BV | Color index B-V magnitude difference |\n",
    "| UB | Color index U-B magnitude difference |\n",
    "| IR | Color index I-R magnitude difference |\n",
    "| spec_B | Spectral taxonomic type(SMASSII) |\n",
    "| spec_T | Spectral taxonomic type(Tholen) |\n",
    "| G | Magnitude slope parameter |\n",
    "| moid | Earth minimum orbit intersection distance(au) |\n",
    "| class | Asteroid orbit class |\n",
    "| n | Mean motion(deg/d) |\n",
    "| per | Orbital period(d) |\n",
    "| ma | Mean anomaly(deg) |"
   ]
  },
  {
   "cell_type": "markdown",
   "id": "2b768eef",
   "metadata": {
    "id": "2b768eef"
   },
   "source": [
    "#### The data gathering phase will attempt to answer the following questions in regards to the dataset :\n",
    "\n",
    "1. How many data entries are there and what datatypes are present?\n",
    "2. How many null values, if any, are present in the dataset?\n",
    "3. How many resources, in terms of memory, are used by the dataset?"
   ]
  },
  {
   "cell_type": "markdown",
   "id": "a53fd359",
   "metadata": {
    "id": "a53fd359"
   },
   "source": [
    "**Importing all libraries for data gathering**"
   ]
  },
  {
   "cell_type": "code",
   "execution_count": null,
   "id": "2048756d",
   "metadata": {
    "colab": {
     "base_uri": "https://localhost:8080/"
    },
    "id": "2048756d",
    "outputId": "3a50428a-8578-4fa5-a3f6-ab749b22c460"
   },
   "outputs": [
    {
     "name": "stdout",
     "output_type": "stream",
     "text": [
      "Mounted at /content/drive\n"
     ]
    }
   ],
   "source": [
    "from google.colab import drive\n",
    "drive.mount('/content/drive')\n",
    "import pandas as pd"
   ]
  },
  {
   "cell_type": "markdown",
   "id": "3939b68f",
   "metadata": {
    "id": "3939b68f"
   },
   "source": [
    "**Read the csv file using pandas read_csv() method and print the first five entries**"
   ]
  },
  {
   "cell_type": "code",
   "execution_count": null,
   "id": "ea5dc325",
   "metadata": {
    "colab": {
     "base_uri": "https://localhost:8080/",
     "height": 296
    },
    "id": "ea5dc325",
    "outputId": "cb5f98e0-d654-46df-e2a3-22a0b5a18283"
   },
   "outputs": [
    {
     "name": "stderr",
     "output_type": "stream",
     "text": [
      "/usr/local/lib/python3.7/dist-packages/IPython/core/interactiveshell.py:2718: DtypeWarning: Columns (0,10,15,16,23,24) have mixed types.Specify dtype option on import or set low_memory=False.\n",
      "  interactivity=interactivity, compiler=compiler, result=result)\n"
     ]
    },
    {
     "data": {
      "text/html": [
       "<div>\n",
       "<style scoped>\n",
       "    .dataframe tbody tr th:only-of-type {\n",
       "        vertical-align: middle;\n",
       "    }\n",
       "\n",
       "    .dataframe tbody tr th {\n",
       "        vertical-align: top;\n",
       "    }\n",
       "\n",
       "    .dataframe thead th {\n",
       "        text-align: right;\n",
       "    }\n",
       "</style>\n",
       "<table border=\"1\" class=\"dataframe\">\n",
       "  <thead>\n",
       "    <tr style=\"text-align: right;\">\n",
       "      <th></th>\n",
       "      <th>name</th>\n",
       "      <th>a</th>\n",
       "      <th>e</th>\n",
       "      <th>i</th>\n",
       "      <th>om</th>\n",
       "      <th>w</th>\n",
       "      <th>q</th>\n",
       "      <th>ad</th>\n",
       "      <th>per_y</th>\n",
       "      <th>data_arc</th>\n",
       "      <th>condition_code</th>\n",
       "      <th>n_obs_used</th>\n",
       "      <th>H</th>\n",
       "      <th>neo</th>\n",
       "      <th>pha</th>\n",
       "      <th>diameter</th>\n",
       "      <th>extent</th>\n",
       "      <th>albedo</th>\n",
       "      <th>rot_per</th>\n",
       "      <th>GM</th>\n",
       "      <th>BV</th>\n",
       "      <th>UB</th>\n",
       "      <th>IR</th>\n",
       "      <th>spec_B</th>\n",
       "      <th>spec_T</th>\n",
       "      <th>G</th>\n",
       "      <th>moid</th>\n",
       "      <th>class</th>\n",
       "      <th>n</th>\n",
       "      <th>per</th>\n",
       "      <th>ma</th>\n",
       "    </tr>\n",
       "  </thead>\n",
       "  <tbody>\n",
       "    <tr>\n",
       "      <th>0</th>\n",
       "      <td>Ceres</td>\n",
       "      <td>2.769165</td>\n",
       "      <td>0.076009</td>\n",
       "      <td>10.594067</td>\n",
       "      <td>80.305532</td>\n",
       "      <td>73.597694</td>\n",
       "      <td>2.558684</td>\n",
       "      <td>2.979647</td>\n",
       "      <td>4.608202</td>\n",
       "      <td>8822.0</td>\n",
       "      <td>0</td>\n",
       "      <td>1002</td>\n",
       "      <td>3.34</td>\n",
       "      <td>N</td>\n",
       "      <td>N</td>\n",
       "      <td>939.4</td>\n",
       "      <td>964.4 x 964.2 x 891.8</td>\n",
       "      <td>0.0900</td>\n",
       "      <td>9.074170</td>\n",
       "      <td>62.6284</td>\n",
       "      <td>0.713</td>\n",
       "      <td>0.426</td>\n",
       "      <td>NaN</td>\n",
       "      <td>C</td>\n",
       "      <td>G</td>\n",
       "      <td>0.12</td>\n",
       "      <td>1.59478</td>\n",
       "      <td>MBA</td>\n",
       "      <td>0.213885</td>\n",
       "      <td>1683.145708</td>\n",
       "      <td>77.372096</td>\n",
       "    </tr>\n",
       "    <tr>\n",
       "      <th>1</th>\n",
       "      <td>Pallas</td>\n",
       "      <td>2.772466</td>\n",
       "      <td>0.230337</td>\n",
       "      <td>34.836234</td>\n",
       "      <td>173.080063</td>\n",
       "      <td>310.048857</td>\n",
       "      <td>2.133865</td>\n",
       "      <td>3.411067</td>\n",
       "      <td>4.616444</td>\n",
       "      <td>72318.0</td>\n",
       "      <td>0</td>\n",
       "      <td>8490</td>\n",
       "      <td>4.13</td>\n",
       "      <td>N</td>\n",
       "      <td>N</td>\n",
       "      <td>545</td>\n",
       "      <td>582x556x500</td>\n",
       "      <td>0.1010</td>\n",
       "      <td>7.813200</td>\n",
       "      <td>14.3000</td>\n",
       "      <td>0.635</td>\n",
       "      <td>0.284</td>\n",
       "      <td>NaN</td>\n",
       "      <td>B</td>\n",
       "      <td>B</td>\n",
       "      <td>0.11</td>\n",
       "      <td>1.23324</td>\n",
       "      <td>MBA</td>\n",
       "      <td>0.213503</td>\n",
       "      <td>1686.155999</td>\n",
       "      <td>59.699133</td>\n",
       "    </tr>\n",
       "    <tr>\n",
       "      <th>2</th>\n",
       "      <td>Juno</td>\n",
       "      <td>2.669150</td>\n",
       "      <td>0.256942</td>\n",
       "      <td>12.988919</td>\n",
       "      <td>169.852760</td>\n",
       "      <td>248.138626</td>\n",
       "      <td>1.983332</td>\n",
       "      <td>3.354967</td>\n",
       "      <td>4.360814</td>\n",
       "      <td>72684.0</td>\n",
       "      <td>0</td>\n",
       "      <td>7104</td>\n",
       "      <td>5.33</td>\n",
       "      <td>N</td>\n",
       "      <td>N</td>\n",
       "      <td>246.596</td>\n",
       "      <td>NaN</td>\n",
       "      <td>0.2140</td>\n",
       "      <td>7.210000</td>\n",
       "      <td>NaN</td>\n",
       "      <td>0.824</td>\n",
       "      <td>0.433</td>\n",
       "      <td>NaN</td>\n",
       "      <td>Sk</td>\n",
       "      <td>S</td>\n",
       "      <td>0.32</td>\n",
       "      <td>1.03454</td>\n",
       "      <td>MBA</td>\n",
       "      <td>0.226019</td>\n",
       "      <td>1592.787285</td>\n",
       "      <td>34.925016</td>\n",
       "    </tr>\n",
       "    <tr>\n",
       "      <th>3</th>\n",
       "      <td>Vesta</td>\n",
       "      <td>2.361418</td>\n",
       "      <td>0.088721</td>\n",
       "      <td>7.141771</td>\n",
       "      <td>103.810804</td>\n",
       "      <td>150.728541</td>\n",
       "      <td>2.151909</td>\n",
       "      <td>2.570926</td>\n",
       "      <td>3.628837</td>\n",
       "      <td>24288.0</td>\n",
       "      <td>0</td>\n",
       "      <td>9325</td>\n",
       "      <td>3.20</td>\n",
       "      <td>N</td>\n",
       "      <td>N</td>\n",
       "      <td>525.4</td>\n",
       "      <td>572.6 x 557.2 x 446.4</td>\n",
       "      <td>0.4228</td>\n",
       "      <td>5.342128</td>\n",
       "      <td>17.8000</td>\n",
       "      <td>0.782</td>\n",
       "      <td>0.492</td>\n",
       "      <td>NaN</td>\n",
       "      <td>V</td>\n",
       "      <td>V</td>\n",
       "      <td>0.32</td>\n",
       "      <td>1.13948</td>\n",
       "      <td>MBA</td>\n",
       "      <td>0.271609</td>\n",
       "      <td>1325.432765</td>\n",
       "      <td>95.861936</td>\n",
       "    </tr>\n",
       "    <tr>\n",
       "      <th>4</th>\n",
       "      <td>Astraea</td>\n",
       "      <td>2.574249</td>\n",
       "      <td>0.191095</td>\n",
       "      <td>5.366988</td>\n",
       "      <td>141.576605</td>\n",
       "      <td>358.687607</td>\n",
       "      <td>2.082324</td>\n",
       "      <td>3.066174</td>\n",
       "      <td>4.130323</td>\n",
       "      <td>63507.0</td>\n",
       "      <td>0</td>\n",
       "      <td>2916</td>\n",
       "      <td>6.85</td>\n",
       "      <td>N</td>\n",
       "      <td>N</td>\n",
       "      <td>106.699</td>\n",
       "      <td>NaN</td>\n",
       "      <td>0.2740</td>\n",
       "      <td>16.806000</td>\n",
       "      <td>NaN</td>\n",
       "      <td>0.826</td>\n",
       "      <td>0.411</td>\n",
       "      <td>NaN</td>\n",
       "      <td>S</td>\n",
       "      <td>S</td>\n",
       "      <td>NaN</td>\n",
       "      <td>1.09589</td>\n",
       "      <td>MBA</td>\n",
       "      <td>0.238632</td>\n",
       "      <td>1508.600458</td>\n",
       "      <td>282.366289</td>\n",
       "    </tr>\n",
       "  </tbody>\n",
       "</table>\n",
       "</div>"
      ],
      "text/plain": [
       "      name         a         e  ...         n          per          ma\n",
       "0    Ceres  2.769165  0.076009  ...  0.213885  1683.145708   77.372096\n",
       "1   Pallas  2.772466  0.230337  ...  0.213503  1686.155999   59.699133\n",
       "2     Juno  2.669150  0.256942  ...  0.226019  1592.787285   34.925016\n",
       "3    Vesta  2.361418  0.088721  ...  0.271609  1325.432765   95.861936\n",
       "4  Astraea  2.574249  0.191095  ...  0.238632  1508.600458  282.366289\n",
       "\n",
       "[5 rows x 31 columns]"
      ]
     },
     "execution_count": 2,
     "metadata": {},
     "output_type": "execute_result"
    }
   ],
   "source": [
    "df = pd.read_csv(\"/content/drive/MyDrive/ML/Project/Asteroid_Updated.csv\")\n",
    "#df = pd.read_csv(\"./Asteroid_Updated.csv\")\n",
    "df.head()"
   ]
  },
  {
   "cell_type": "markdown",
   "id": "1197b410",
   "metadata": {
    "id": "1197b410"
   },
   "source": [
    "**Use pandas shape method to identify the amount of data available**"
   ]
  },
  {
   "cell_type": "code",
   "execution_count": null,
   "id": "5b2242fa",
   "metadata": {
    "colab": {
     "base_uri": "https://localhost:8080/"
    },
    "id": "5b2242fa",
    "outputId": "59323504-4385-4958-d0bb-562a8948dd4e"
   },
   "outputs": [
    {
     "data": {
      "text/plain": [
       "(839714, 31)"
      ]
     },
     "execution_count": 175,
     "metadata": {},
     "output_type": "execute_result"
    }
   ],
   "source": [
    "df.shape"
   ]
  },
  {
   "cell_type": "markdown",
   "id": "7b648455",
   "metadata": {
    "id": "7b648455"
   },
   "source": [
    "**Use pandas info method to identify the data types, null values and memory usage**"
   ]
  },
  {
   "cell_type": "code",
   "execution_count": null,
   "id": "b5ff62c2",
   "metadata": {
    "colab": {
     "base_uri": "https://localhost:8080/"
    },
    "id": "b5ff62c2",
    "outputId": "9ddc2555-f820-4ecc-85d2-54f0a2879795"
   },
   "outputs": [
    {
     "name": "stdout",
     "output_type": "stream",
     "text": [
      "<class 'pandas.core.frame.DataFrame'>\n",
      "RangeIndex: 839714 entries, 0 to 839713\n",
      "Data columns (total 31 columns):\n",
      " #   Column          Non-Null Count   Dtype  \n",
      "---  ------          --------------   -----  \n",
      " 0   name            21967 non-null   object \n",
      " 1   a               839712 non-null  float64\n",
      " 2   e               839714 non-null  float64\n",
      " 3   i               839714 non-null  float64\n",
      " 4   om              839714 non-null  float64\n",
      " 5   w               839714 non-null  float64\n",
      " 6   q               839714 non-null  float64\n",
      " 7   ad              839708 non-null  float64\n",
      " 8   per_y           839713 non-null  float64\n",
      " 9   data_arc        824240 non-null  float64\n",
      " 10  condition_code  838847 non-null  object \n",
      " 11  n_obs_used      839714 non-null  int64  \n",
      " 12  H               837025 non-null  float64\n",
      " 13  neo             839708 non-null  object \n",
      " 14  pha             823272 non-null  object \n",
      " 15  diameter        137636 non-null  object \n",
      " 16  extent          18 non-null      object \n",
      " 17  albedo          136409 non-null  float64\n",
      " 18  rot_per         18796 non-null   float64\n",
      " 19  GM              14 non-null      float64\n",
      " 20  BV              1021 non-null    float64\n",
      " 21  UB              979 non-null     float64\n",
      " 22  IR              1 non-null       float64\n",
      " 23  spec_B          1666 non-null    object \n",
      " 24  spec_T          980 non-null     object \n",
      " 25  G               119 non-null     float64\n",
      " 26  moid            823272 non-null  float64\n",
      " 27  class           839714 non-null  object \n",
      " 28  n               839712 non-null  float64\n",
      " 29  per             839708 non-null  float64\n",
      " 30  ma              839706 non-null  float64\n",
      "dtypes: float64(21), int64(1), object(9)\n",
      "memory usage: 198.6+ MB\n"
     ]
    }
   ],
   "source": [
    "df.info()"
   ]
  },
  {
   "cell_type": "markdown",
   "id": "4dd0e6a1",
   "metadata": {
    "id": "4dd0e6a1"
   },
   "source": [
    "#### Data Gathering Results\n",
    "\n",
    "From the data gathering, the following was obtained in relation to the initial inquries regarding the dataset:\n",
    "\n",
    "1. There are a total of **839,714 data entries** each with **31 features** to explore. Of these features there are **21 float64**, **1 int64**, and **9 object data types**. \n",
    "2. Some features contain **0** null values while others contain more than **700,000 nulls**.\n",
    "3. The data's memory usage is approximately **198.6MB**. \n",
    "\n",
    "**Based on this information, the data will need to undergo some exstensive pre-processing prior to any exploratory data analysis .**"
   ]
  },
  {
   "cell_type": "markdown",
   "id": "SUAle7zJQY7_",
   "metadata": {
    "id": "SUAle7zJQY7_"
   },
   "source": [
    "### Data Pre-processing, Cleaning, Labeling, and Maintenance \n",
    "\n",
    "Initial data gathering showed that the dataset is comprised of 839,714 data entries consisting of 31 variables made up of 3 different data types (float64, int64, object). Additionaly, it was determined that while some of the data entries' features contained no null values, it was shown that approximately 700,000 entries contained at least one null value if not many more. Since the goal of this project is to create both a regressor and a classifer for targeting diameter and physically harzardous asteriod respectively there is a need to address the frequency of null value occurences throughout the dataset.\n",
    "\n",
    "#### This phase of data exploration will attempt to  address the following concerns: \n",
    " \n",
    "1. What features have a high number of Nulls? How will these null values be addressed for both regression and classification?\n",
    "2. How will the incorrect data types be handled for regression?\n",
    "3. How will any class imbalance be handled for classification?"
   ]
  },
  {
   "cell_type": "markdown",
   "id": "fea3a84d",
   "metadata": {
    "id": "fea3a84d"
   },
   "source": [
    "**Importing all libraries for data pre-processing, cleaning, labeling and maintenance**"
   ]
  },
  {
   "cell_type": "code",
   "execution_count": null,
   "id": "b651856f",
   "metadata": {
    "id": "b651856f"
   },
   "outputs": [],
   "source": [
    "from sklearn.preprocessing import LabelEncoder as le\n",
    "from sklearn.utils import resample"
   ]
  },
  {
   "cell_type": "markdown",
   "id": "1799c8f4",
   "metadata": {
    "id": "1799c8f4"
   },
   "source": [
    "#### Answering Q1 from Data Pre-processing, Cleaning, and Maintence\n",
    "\n",
    "The results of the initial data gathering had shown the existence of a larger quantity of null values within the dataset. The pandas module can be used to print the sum of null values to determine which columns had a high percentage of null values. If either of the targets (diameter, pha) are present amoungst the columns, additional data cleaning will be needed prior to any exploratory data analysis. Otherwise any other column found to contain a large frequency of null values can be discarded from the dataframe as they will not be useful for either regression or classification."
   ]
  },
  {
   "cell_type": "markdown",
   "id": "2b303df2",
   "metadata": {
    "id": "2b303df2"
   },
   "source": [
    "***Use pandas isnull and sum methods to print the sum of null values within the dataframe***"
   ]
  },
  {
   "cell_type": "code",
   "execution_count": null,
   "id": "adbc5771",
   "metadata": {
    "colab": {
     "base_uri": "https://localhost:8080/"
    },
    "id": "adbc5771",
    "outputId": "195075ee-6369-49ce-d482-e90830d2c9d7"
   },
   "outputs": [
    {
     "name": "stdout",
     "output_type": "stream",
     "text": [
      "The Sum of Null Values in The Dataframe\n",
      "========================================\n",
      "name              817747\n",
      "a                      2\n",
      "e                      0\n",
      "i                      0\n",
      "om                     0\n",
      "w                      0\n",
      "q                      0\n",
      "ad                     6\n",
      "per_y                  1\n",
      "data_arc           15474\n",
      "condition_code       867\n",
      "n_obs_used             0\n",
      "H                   2689\n",
      "neo                    6\n",
      "pha                16442\n",
      "diameter          702078\n",
      "extent            839696\n",
      "albedo            703305\n",
      "rot_per           820918\n",
      "GM                839700\n",
      "BV                838693\n",
      "UB                838735\n",
      "IR                839713\n",
      "spec_B            838048\n",
      "spec_T            838734\n",
      "G                 839595\n",
      "moid               16442\n",
      "class                  0\n",
      "n                      2\n",
      "per                    6\n",
      "ma                     8\n",
      "dtype: int64\n"
     ]
    }
   ],
   "source": [
    "print(\"The Sum of Null Values in The Dataframe\\n\" + \"=\"*40 + \"\\n\" + str(df.isnull().sum()))"
   ]
  },
  {
   "cell_type": "markdown",
   "id": "df1ed585",
   "metadata": {
    "id": "df1ed585"
   },
   "source": [
    "As shown in the above cell output, 12 of the 31 features contained about 700,000 null values. Amongst these 12 features was diameter, the target for regression, with a total sum of 702,078 null values. The removal of these entries with null values for diameter would greatly diminish the size of the dataset, therefore the remaining 11 features can be dropped from the dataframe for now. \n",
    "\n",
    "**Use pandas drop method to drop the features from the dataframe**"
   ]
  },
  {
   "cell_type": "code",
   "execution_count": null,
   "id": "6112cf85",
   "metadata": {
    "id": "6112cf85"
   },
   "outputs": [],
   "source": [
    "columns = ['name', 'extent', 'albedo', 'rot_per', 'GM', 'BV', 'G', 'UB', 'IR', 'spec_B', 'spec_T']\n",
    "df.drop(columns=columns, inplace=True)"
   ]
  },
  {
   "cell_type": "markdown",
   "id": "039c8f80",
   "metadata": {
    "id": "039c8f80"
   },
   "source": [
    "Now that the 11 features containing more than 700,000 null values have been dropped from the dataframe, pandas can used again to determine the remaining number of null values needing to processed prior to exploratory data analysis."
   ]
  },
  {
   "cell_type": "markdown",
   "id": "c0145f91",
   "metadata": {
    "id": "c0145f91"
   },
   "source": [
    "***Use pandas isnull and sum methods to print the sum of null values within the dataframe***"
   ]
  },
  {
   "cell_type": "code",
   "execution_count": null,
   "id": "d5c0a3c0",
   "metadata": {
    "id": "d5c0a3c0",
    "outputId": "36362728-3c14-4234-c0b3-08760e6ee859"
   },
   "outputs": [
    {
     "name": "stdout",
     "output_type": "stream",
     "text": [
      "The Sum of Null Values in The Dataframe\n",
      "========================================\n",
      "a                      2\n",
      "e                      0\n",
      "i                      0\n",
      "om                     0\n",
      "w                      0\n",
      "q                      0\n",
      "ad                     6\n",
      "per_y                  1\n",
      "data_arc           15474\n",
      "condition_code       867\n",
      "n_obs_used             0\n",
      "H                   2689\n",
      "neo                    6\n",
      "pha                16442\n",
      "diameter          702078\n",
      "moid               16442\n",
      "class                  0\n",
      "n                      2\n",
      "per                    6\n",
      "ma                     8\n",
      "dtype: int64\n"
     ]
    }
   ],
   "source": [
    "print(\"The Sum of Null Values in The Dataframe\\n\" + \"=\"*40 + \"\\n\" + str(df.isnull().sum()))"
   ]
  },
  {
   "cell_type": "markdown",
   "id": "de698e06",
   "metadata": {
    "id": "de698e06"
   },
   "source": [
    "##### Q1 Results\n",
    "\n",
    "✨*Voila!*✨ From the above cell it is shown that the dataframe contains a significant less amount of null values and the remaining data is now constrained only by the null values present in the target features. Any further processing will need to address the specific data needs as it pertains to either classification or regression."
   ]
  },
  {
   "cell_type": "markdown",
   "id": "b1dbcaf1",
   "metadata": {
    "id": "b1dbcaf1"
   },
   "source": [
    "#### Answering Q2 from Data Pre-processing, Cleaning, and Maintence\n",
    "\n",
    "During data gathering, there were 9 categorical features observed to be of type object within the dataset. Of these 9 features, 5 were dropped during the initial cleaning and the remaining 4 features, ***pha***, ***neo***, ***condition_code*** and ***class*** contained only categorical data. In order for these remaining 4 features to be used by a machine learning algorithm they must first be converted from categorical to numerical data types. After converting these features, any further remaining data of incorrect type must also be converted to numeric values before attempting to drop the remaining null values from the dataframe.\n"
   ]
  },
  {
   "cell_type": "markdown",
   "id": "0ea4768f",
   "metadata": {
    "id": "0ea4768f"
   },
   "source": [
    "**Create seperate dataframe to be used for regression**"
   ]
  },
  {
   "cell_type": "code",
   "execution_count": null,
   "id": "7c363dff",
   "metadata": {
    "id": "7c363dff"
   },
   "outputs": [],
   "source": [
    "df_regression = df"
   ]
  },
  {
   "cell_type": "markdown",
   "id": "aUGennLHwnwh",
   "metadata": {
    "id": "aUGennLHwnwh"
   },
   "source": [
    "Currently the values belonging to both ***pha*** and ***neo*** features can either be '*Y*' or '*N*', while the values belonging to the ***condition_code*** feature range from *0* to *9*, '*D*', and '*E*'. By using the map method provided by the pandas module, each value within the provided dictionary can easily be mapped to corresponding nurmerical values.\n",
    "\n",
    "**Use dictionaries along with pandas map method to transform categorical data to numerical data**"
   ]
  },
  {
   "cell_type": "code",
   "execution_count": null,
   "id": "0eb43880",
   "metadata": {
    "id": "0eb43880"
   },
   "outputs": [],
   "source": [
    "df_regression['pha'] = df_regression['pha'].map({'Y': 1, 'N': 0})\n",
    "df_regression['neo'] = df_regression['neo'].map({'Y': 1, 'N': 0})\n",
    "df_regression['condition_code'] = df_regression['condition_code'].map({0: 1, 1: 2, 2: 3, 3: 4, 4: 5, 5: 6, 6: 7, 7: 8, 8: 9, 9: 10, 'D': 11, 'E': 12})"
   ]
  },
  {
   "cell_type": "markdown",
   "id": "f6156549",
   "metadata": {
    "id": "f6156549"
   },
   "source": [
    "Results from the above transformation now have ***pha*** and ***neo*** features containing either the value *0* or *1* and the new condition_code feature values ranging from *1* to *12*.\n",
    "\n",
    "Unlike the values belonging to the 3 features converted in the above cell, the values belonging to the ***class*** feature do not share any sort of sequential meaning or state with one another. Therefore, a label encoder can be used to map the feature values to arbitrary numerical representations."
   ]
  },
  {
   "cell_type": "markdown",
   "id": "b6fbd1c1",
   "metadata": {
    "id": "b6fbd1c1"
   },
   "source": [
    "**Use Label Encoder to transform categorical data to numerical data**"
   ]
  },
  {
   "cell_type": "code",
   "execution_count": null,
   "id": "f53631a2",
   "metadata": {
    "id": "f53631a2"
   },
   "outputs": [],
   "source": [
    "df_regression['class'] = le().fit_transform(df_regression['class'])"
   ]
  },
  {
   "cell_type": "markdown",
   "id": "e2c9d9d6",
   "metadata": {
    "id": "e2c9d9d6"
   },
   "source": [
    "Now that each of the features initialy containing categorical objects have all been transformed to numerical data types, pandas can be used on the dataframe to change any non-convertable values to '*NaN*' within each feature. By changing non-numeric values to be *NaN*, it will ensure that after the final drop of null values the dataframe will only contain numeric values.\n",
    "\n",
    "**Use pandas apply and to_numeric methods to change any non-convertable values to NaN**"
   ]
  },
  {
   "cell_type": "code",
   "execution_count": null,
   "id": "d8a48642",
   "metadata": {
    "id": "d8a48642"
   },
   "outputs": [],
   "source": [
    "df_regression = df_regression.apply(lambda x: pd.to_numeric(x, errors='coerce'))"
   ]
  },
  {
   "cell_type": "markdown",
   "id": "e56c0ebb",
   "metadata": {
    "id": "e56c0ebb"
   },
   "source": [
    "From here the dataframe should only consist of either numeric, *NaN* or null data types. Therefore the remaining features containing only null values will now be dropped from the dataframe. Additionally, any entries within the dataframe containing any null values will also be removed from the dataframe.\n",
    "\n",
    "**Use pandas dropna method to remove null values from the dataframe**"
   ]
  },
  {
   "cell_type": "code",
   "execution_count": null,
   "id": "8ec9d609",
   "metadata": {
    "id": "8ec9d609"
   },
   "outputs": [],
   "source": [
    "df_regression.dropna(how='all', axis=1, inplace=True)\n",
    "df_regression.dropna(how='any', axis=0, inplace=True)"
   ]
  },
  {
   "cell_type": "markdown",
   "id": "b9b44aa6",
   "metadata": {
    "id": "b9b44aa6"
   },
   "source": [
    "To verify that the dataframe for regression is now cleaned, pandas can be used to show that there are currently no null values within the dataset and that all of values within the dataset are only of numeric types.\n",
    "\n",
    "***Use pandas isnull and sum methods to print the sum of null values within the dataframe***"
   ]
  },
  {
   "cell_type": "code",
   "execution_count": null,
   "id": "d1105b5c",
   "metadata": {
    "id": "d1105b5c",
    "outputId": "71e23ff2-b837-4105-e0a4-cab1d6f53064"
   },
   "outputs": [
    {
     "name": "stdout",
     "output_type": "stream",
     "text": [
      "The Sum of Null Values in The Dataframe\n",
      "========================================\n",
      "a                 0\n",
      "e                 0\n",
      "i                 0\n",
      "om                0\n",
      "w                 0\n",
      "q                 0\n",
      "ad                0\n",
      "per_y             0\n",
      "data_arc          0\n",
      "condition_code    0\n",
      "n_obs_used        0\n",
      "H                 0\n",
      "neo               0\n",
      "pha               0\n",
      "diameter          0\n",
      "moid              0\n",
      "class             0\n",
      "n                 0\n",
      "per               0\n",
      "ma                0\n",
      "dtype: int64\n"
     ]
    }
   ],
   "source": [
    "print(\"The Sum of Null Values in The Dataframe\\n\" + \"=\"*40 + \"\\n\" + str(df_regression.isnull().sum()))"
   ]
  },
  {
   "cell_type": "markdown",
   "id": "fc03ed37",
   "metadata": {
    "id": "fc03ed37"
   },
   "source": [
    "**Use pandas dtypes method to show the catalog of data types in the dataframe**"
   ]
  },
  {
   "cell_type": "code",
   "execution_count": null,
   "id": "3f904fe9",
   "metadata": {
    "id": "3f904fe9",
    "outputId": "0aeb1324-adb4-418f-9bab-5c5652cbe21c"
   },
   "outputs": [
    {
     "data": {
      "text/plain": [
       "a                 float64\n",
       "e                 float64\n",
       "i                 float64\n",
       "om                float64\n",
       "w                 float64\n",
       "q                 float64\n",
       "ad                float64\n",
       "per_y             float64\n",
       "data_arc          float64\n",
       "condition_code    float64\n",
       "n_obs_used          int64\n",
       "H                 float64\n",
       "neo               float64\n",
       "pha               float64\n",
       "diameter          float64\n",
       "moid              float64\n",
       "class               int64\n",
       "n                 float64\n",
       "per               float64\n",
       "ma                float64\n",
       "dtype: object"
      ]
     },
     "execution_count": 188,
     "metadata": {},
     "output_type": "execute_result"
    }
   ],
   "source": [
    "df_regression.dtypes"
   ]
  },
  {
   "cell_type": "markdown",
   "id": "94254b3b",
   "metadata": {
    "id": "94254b3b"
   },
   "source": [
    "The dataset for regression is now cleaned and ready for some exploratory data analysis! But before taking a deep dive into it, it may be useful to see the final size of the dataset that's going to be used.  \n",
    "\n",
    "**Use pandas shape method to identify the dimensions of the dataframe**"
   ]
  },
  {
   "cell_type": "code",
   "execution_count": null,
   "id": "001ad063",
   "metadata": {
    "id": "001ad063",
    "outputId": "088713a8-9c01-472c-a5e2-14b8a41b69bd"
   },
   "outputs": [
    {
     "data": {
      "text/plain": [
       "(127910, 20)"
      ]
     },
     "execution_count": 189,
     "metadata": {},
     "output_type": "execute_result"
    }
   ],
   "source": [
    "df_regression.shape"
   ]
  },
  {
   "cell_type": "markdown",
   "id": "84a5bbb3",
   "metadata": {
    "id": "84a5bbb3"
   },
   "source": [
    "##### Q2 Results:\n",
    "✨*Wowza*!✨ Following the data cleaning for regression, the dataset went from containing *839,714* entries with *31* features to only containing *127,910* entries with just *20* features! Now that the dataset for regression is finalized, exploratory data analysis will help determine which of these 20 features, if any, can be used to model asteroid diameter."
   ]
  },
  {
   "cell_type": "markdown",
   "id": "9973dc5c",
   "metadata": {
    "id": "9973dc5c"
   },
   "source": [
    "#### Answering Q3 from Data Pre-processing, Cleaning, and Maintence\n",
    "\n",
    "One major hurdle to overcome when pre-processing data for classification is the posible existence of class imbalances. Class imbalances refer to higher instances of one particular class that will lead to biases in the classifiers. These biases toward the majority class can then result in bad classifications of the minority class. For example, if the originally the dataset had a distribution of 499,000 instances of class 0 and 1000 instances of class 1, then the classification scores will be based upon how accurate the classifer is at predicting instances being of class 0. Therefore, before handling any non-numeric and null datatypes in the datasets it would be best to address any significant class imbalances present within the dataframe.\n",
    "\n",
    "**Create seperate dataframe to be used for classification**"
   ]
  },
  {
   "cell_type": "code",
   "execution_count": null,
   "id": "6ea35185",
   "metadata": {
    "id": "6ea35185"
   },
   "outputs": [],
   "source": [
    "df_classification = df"
   ]
  },
  {
   "cell_type": "markdown",
   "id": "5a37af8b",
   "metadata": {
    "id": "5a37af8b"
   },
   "source": [
    "Prior to handling any non-numeric datatypes and null values in the datasets, pandas can be used to determine whether the the classifer's target feature, ***pha***, has a significant class imbalance.\n",
    "\n",
    "\n",
    "**Use pandas groupby method to output the class size distribution**"
   ]
  },
  {
   "cell_type": "code",
   "execution_count": null,
   "id": "538f15d0",
   "metadata": {
    "colab": {
     "base_uri": "https://localhost:8080/"
    },
    "id": "538f15d0",
    "outputId": "495d7b3d-7b61-473b-c76f-4d0b4f35ff57"
   },
   "outputs": [
    {
     "data": {
      "text/plain": [
       "pha\n",
       "0.0    821257\n",
       "1.0      2015\n",
       "dtype: int64"
      ]
     },
     "execution_count": 191,
     "metadata": {},
     "output_type": "execute_result"
    }
   ],
   "source": [
    "class_counts = df_classification.groupby('pha').size()\n",
    "class_counts"
   ]
  },
  {
   "cell_type": "markdown",
   "id": "e46d2501",
   "metadata": {
    "id": "e46d2501"
   },
   "source": [
    "The results from the above cell shows that the ***pha*** feature's *0* class has **821,257** instances, while the *1* class has only **2015**. This significant disproportion, if not adjusted, will lead to a high bias towards the majority class, *0*, and give false high accuracy scores. To solve this problem, a ***Variational Autoencoder*** (VAE) will be needed to generate *6000* extra samples for the minority class. "
   ]
  },
  {
   "cell_type": "markdown",
   "id": "49b25750",
   "metadata": {
    "id": "49b25750"
   },
   "source": [
    "After using the ***VAE.ipynb*** included within this repository, new data was appended to the original csv and saved as a new csv. \n",
    "\n",
    "**Read the new csv file created by the VAE using pandas read_csv() method and print the first five entries**"
   ]
  },
  {
   "cell_type": "code",
   "execution_count": null,
   "id": "6f7bcf4a",
   "metadata": {
    "colab": {
     "base_uri": "https://localhost:8080/",
     "height": 296
    },
    "id": "6f7bcf4a",
    "outputId": "c2a214b2-1b58-40fc-f690-752d4be10171"
   },
   "outputs": [
    {
     "name": "stderr",
     "output_type": "stream",
     "text": [
      "/Library/Frameworks/Python.framework/Versions/3.8/lib/python3.8/site-packages/IPython/core/interactiveshell.py:3441: DtypeWarning: Columns (9,17,19,20,27,28) have mixed types.Specify dtype option on import or set low_memory=False.\n",
      "  exec(code_obj, self.user_global_ns, self.user_ns)\n"
     ]
    },
    {
     "data": {
      "text/html": [
       "<div>\n",
       "<style scoped>\n",
       "    .dataframe tbody tr th:only-of-type {\n",
       "        vertical-align: middle;\n",
       "    }\n",
       "\n",
       "    .dataframe tbody tr th {\n",
       "        vertical-align: top;\n",
       "    }\n",
       "\n",
       "    .dataframe thead th {\n",
       "        text-align: right;\n",
       "    }\n",
       "</style>\n",
       "<table border=\"1\" class=\"dataframe\">\n",
       "  <thead>\n",
       "    <tr style=\"text-align: right;\">\n",
       "      <th></th>\n",
       "      <th>a</th>\n",
       "      <th>e</th>\n",
       "      <th>i</th>\n",
       "      <th>om</th>\n",
       "      <th>w</th>\n",
       "      <th>q</th>\n",
       "      <th>ad</th>\n",
       "      <th>per_y</th>\n",
       "      <th>data_arc</th>\n",
       "      <th>condition_code</th>\n",
       "      <th>n_obs_used</th>\n",
       "      <th>H</th>\n",
       "      <th>neo</th>\n",
       "      <th>pha</th>\n",
       "      <th>diameter</th>\n",
       "      <th>moid</th>\n",
       "      <th>class</th>\n",
       "      <th>n</th>\n",
       "      <th>per</th>\n",
       "      <th>ma</th>\n",
       "    </tr>\n",
       "  </thead>\n",
       "  <tbody>\n",
       "    <tr>\n",
       "      <th>0</th>\n",
       "      <td>2.769165</td>\n",
       "      <td>0.076009</td>\n",
       "      <td>10.594067</td>\n",
       "      <td>80.305532</td>\n",
       "      <td>73.597694</td>\n",
       "      <td>2.558684</td>\n",
       "      <td>2.979647</td>\n",
       "      <td>4.608202</td>\n",
       "      <td>8822.0</td>\n",
       "      <td>1.0</td>\n",
       "      <td>1002</td>\n",
       "      <td>3.34</td>\n",
       "      <td>0.0</td>\n",
       "      <td>0.0</td>\n",
       "      <td>939.4</td>\n",
       "      <td>1.59478</td>\n",
       "      <td>8</td>\n",
       "      <td>0.213885</td>\n",
       "      <td>1683.145708</td>\n",
       "      <td>77.372096</td>\n",
       "    </tr>\n",
       "    <tr>\n",
       "      <th>1</th>\n",
       "      <td>2.772466</td>\n",
       "      <td>0.230337</td>\n",
       "      <td>34.836234</td>\n",
       "      <td>173.080063</td>\n",
       "      <td>310.048857</td>\n",
       "      <td>2.133865</td>\n",
       "      <td>3.411067</td>\n",
       "      <td>4.616444</td>\n",
       "      <td>72318.0</td>\n",
       "      <td>1.0</td>\n",
       "      <td>8490</td>\n",
       "      <td>4.13</td>\n",
       "      <td>0.0</td>\n",
       "      <td>0.0</td>\n",
       "      <td>545</td>\n",
       "      <td>1.23324</td>\n",
       "      <td>8</td>\n",
       "      <td>0.213503</td>\n",
       "      <td>1686.155999</td>\n",
       "      <td>59.699133</td>\n",
       "    </tr>\n",
       "    <tr>\n",
       "      <th>2</th>\n",
       "      <td>2.669150</td>\n",
       "      <td>0.256942</td>\n",
       "      <td>12.988919</td>\n",
       "      <td>169.852760</td>\n",
       "      <td>248.138626</td>\n",
       "      <td>1.983332</td>\n",
       "      <td>3.354967</td>\n",
       "      <td>4.360814</td>\n",
       "      <td>72684.0</td>\n",
       "      <td>1.0</td>\n",
       "      <td>7104</td>\n",
       "      <td>5.33</td>\n",
       "      <td>0.0</td>\n",
       "      <td>0.0</td>\n",
       "      <td>246.596</td>\n",
       "      <td>1.03454</td>\n",
       "      <td>8</td>\n",
       "      <td>0.226019</td>\n",
       "      <td>1592.787285</td>\n",
       "      <td>34.925016</td>\n",
       "    </tr>\n",
       "    <tr>\n",
       "      <th>3</th>\n",
       "      <td>2.361418</td>\n",
       "      <td>0.088721</td>\n",
       "      <td>7.141771</td>\n",
       "      <td>103.810804</td>\n",
       "      <td>150.728541</td>\n",
       "      <td>2.151909</td>\n",
       "      <td>2.570926</td>\n",
       "      <td>3.628837</td>\n",
       "      <td>24288.0</td>\n",
       "      <td>1.0</td>\n",
       "      <td>9325</td>\n",
       "      <td>3.20</td>\n",
       "      <td>0.0</td>\n",
       "      <td>0.0</td>\n",
       "      <td>525.4</td>\n",
       "      <td>1.13948</td>\n",
       "      <td>8</td>\n",
       "      <td>0.271609</td>\n",
       "      <td>1325.432765</td>\n",
       "      <td>95.861936</td>\n",
       "    </tr>\n",
       "    <tr>\n",
       "      <th>4</th>\n",
       "      <td>2.574249</td>\n",
       "      <td>0.191095</td>\n",
       "      <td>5.366988</td>\n",
       "      <td>141.576605</td>\n",
       "      <td>358.687607</td>\n",
       "      <td>2.082324</td>\n",
       "      <td>3.066174</td>\n",
       "      <td>4.130323</td>\n",
       "      <td>63507.0</td>\n",
       "      <td>1.0</td>\n",
       "      <td>2916</td>\n",
       "      <td>6.85</td>\n",
       "      <td>0.0</td>\n",
       "      <td>0.0</td>\n",
       "      <td>106.699</td>\n",
       "      <td>1.09589</td>\n",
       "      <td>8</td>\n",
       "      <td>0.238632</td>\n",
       "      <td>1508.600458</td>\n",
       "      <td>282.366289</td>\n",
       "    </tr>\n",
       "  </tbody>\n",
       "</table>\n",
       "</div>"
      ],
      "text/plain": [
       "          a         e          i          om           w         q        ad  \\\n",
       "0  2.769165  0.076009  10.594067   80.305532   73.597694  2.558684  2.979647   \n",
       "1  2.772466  0.230337  34.836234  173.080063  310.048857  2.133865  3.411067   \n",
       "2  2.669150  0.256942  12.988919  169.852760  248.138626  1.983332  3.354967   \n",
       "3  2.361418  0.088721   7.141771  103.810804  150.728541  2.151909  2.570926   \n",
       "4  2.574249  0.191095   5.366988  141.576605  358.687607  2.082324  3.066174   \n",
       "\n",
       "      per_y  data_arc  condition_code  n_obs_used     H  neo  pha diameter  \\\n",
       "0  4.608202    8822.0             1.0        1002  3.34  0.0  0.0    939.4   \n",
       "1  4.616444   72318.0             1.0        8490  4.13  0.0  0.0      545   \n",
       "2  4.360814   72684.0             1.0        7104  5.33  0.0  0.0  246.596   \n",
       "3  3.628837   24288.0             1.0        9325  3.20  0.0  0.0    525.4   \n",
       "4  4.130323   63507.0             1.0        2916  6.85  0.0  0.0  106.699   \n",
       "\n",
       "      moid  class         n          per          ma  \n",
       "0  1.59478      8  0.213885  1683.145708   77.372096  \n",
       "1  1.23324      8  0.213503  1686.155999   59.699133  \n",
       "2  1.03454      8  0.226019  1592.787285   34.925016  \n",
       "3  1.13948      8  0.271609  1325.432765   95.861936  \n",
       "4  1.09589      8  0.238632  1508.600458  282.366289  "
      ]
     },
     "execution_count": 192,
     "metadata": {},
     "output_type": "execute_result"
    }
   ],
   "source": [
    "#df_classification = pd.read_csv(\"/content/drive/MyDrive/ML/Project/Asteroid_VAE_data.csv\")\n",
    "df_classification = pd.read_csv(\"./Asteroid_VAE_data.csv\")\n",
    "df.head()"
   ]
  },
  {
   "cell_type": "markdown",
   "id": "96e824cd",
   "metadata": {
    "id": "96e824cd"
   },
   "source": [
    "After reading the new csv generated by the VAE, pandas can be used to recheck the the class size distrubition of ***pha*** to verify the exisitence of new samples belonging to the minority class.\n",
    "\n",
    "\n",
    "**Use pandas groupby method to output the class size distribution**"
   ]
  },
  {
   "cell_type": "code",
   "execution_count": null,
   "id": "0adf49c3",
   "metadata": {
    "id": "0adf49c3",
    "outputId": "a9b9300b-a95e-4f1a-b86b-143efa058e52",
    "scrolled": true
   },
   "outputs": [
    {
     "data": {
      "text/plain": [
       "pha\n",
       "1.0      6000\n",
       "N      821257\n",
       "Y        2015\n",
       "dtype: int64"
      ]
     },
     "execution_count": 193,
     "metadata": {},
     "output_type": "execute_result"
    }
   ],
   "source": [
    "class_counts = df_classification.groupby('pha').size()\n",
    "class_counts"
   ]
  },
  {
   "cell_type": "markdown",
   "id": "1b8f6c7c",
   "metadata": {
    "id": "1b8f6c7c"
   },
   "source": [
    "The new class distribution for pha shows the addition of a new '*1.0*' class comprised of the 6000 values generated by the VAE. This discrepancy can be resolved by using the same approach taken when cleaning the dataframe for regression. Except this time the *pha* feature value'1.0' will also be mapped to '1' along with the 'Y' values. Additionally, the mapping of the other categorical datatypes to numerical datatypes, as seen when cleaning the regression dataframe, can also be completed at this time.\n",
    "\n",
    "**Use dictionaries along with pandas map method to transform categorical data to numerical data**"
   ]
  },
  {
   "cell_type": "code",
   "execution_count": null,
   "id": "59d91f23",
   "metadata": {
    "id": "59d91f23"
   },
   "outputs": [],
   "source": [
    "df_classification['pha'] = df_classification['pha'].map({'1.0' : 1, 'Y': 1, 'N': 0})\n",
    "df_classification['neo'] = df_classification['neo'].map({'1.0' : 1, 'Y': 1, 'N': 0})\n",
    "df_classification['condition_code'] = df_classification['condition_code'].map({'0': 1, '1': 2, '2': 3, '3': 4, '4': 5, 5:6, '5': 6, '6': 7, '7': 8, '8': 9, '9': 10, 'D': 11, 'E': 12, -0.0:1, -1.0:1, 2.0:2, 3.0:3, 4.0:4, 5.0:5, 6.0:6, 7.0:7, 8.0:8, 9.0:9})\n",
    "df_classification['condition_code'] = df_classification['condition_code'].apply(lambda x: pd.to_numeric(x, errors='coerce'))"
   ]
  },
  {
   "cell_type": "markdown",
   "id": "8e44d4d8",
   "metadata": {
    "id": "8e44d4d8"
   },
   "source": [
    "**Use Label Encoder to transform categorical data to numerical data**"
   ]
  },
  {
   "cell_type": "code",
   "execution_count": null,
   "id": "Ahiuyu1TN3Sq",
   "metadata": {
    "id": "Ahiuyu1TN3Sq"
   },
   "outputs": [],
   "source": [
    "df_classification['class'] = le().fit_transform(df_classification['class'])"
   ]
  },
  {
   "cell_type": "markdown",
   "id": "1EuTBUdfKo9_",
   "metadata": {
    "id": "1EuTBUdfKo9_"
   },
   "source": [
    "**This portion of code is to visualize what we originally had as our classification data. We noticed that we were being left with a very small amount of samples for class 1 so we tried dropping other columns with higher null values to see if they were the cause of the drops.**"
   ]
  },
  {
   "cell_type": "code",
   "execution_count": null,
   "id": "NEKeOpI_Kqxw",
   "metadata": {
    "id": "NEKeOpI_Kqxw"
   },
   "outputs": [],
   "source": [
    "df_with_cols = df_classification.dropna(how='all', axis=1)\n",
    "df_with_cols = df_classification.dropna(how='any', axis=0)"
   ]
  },
  {
   "cell_type": "code",
   "execution_count": null,
   "id": "Hx4fWcHHKsmg",
   "metadata": {
    "id": "Hx4fWcHHKsmg"
   },
   "outputs": [],
   "source": [
    "class_counts = df_with_cols.groupby('pha').size()\n",
    "class_counts.shape"
   ]
  },
  {
   "cell_type": "markdown",
   "id": "zp4gtk83KuPZ",
   "metadata": {
    "id": "zp4gtk83KuPZ"
   },
   "source": [
    "By dropping none of the features with high null values we are left with an empty dataset, therefore we need to drop at least those with majority nulls like we did in the regression section."
   ]
  },
  {
   "cell_type": "code",
   "execution_count": null,
   "id": "dbf_eEGVKwE2",
   "metadata": {
    "id": "dbf_eEGVKwE2"
   },
   "outputs": [],
   "source": [
    "columns_test = ['Unnamed: 0', 'name', 'extent', 'albedo', 'rot_per', 'GM', 'BV', 'UB', 'IR', 'spec_B', 'spec_T', 'G']\n",
    "df_test = df_classification.drop(columns=columns_test)"
   ]
  },
  {
   "cell_type": "code",
   "execution_count": null,
   "id": "ejkc7UcoKx-T",
   "metadata": {
    "id": "ejkc7UcoKx-T"
   },
   "outputs": [],
   "source": [
    "df_test = df_test.dropna(how='all', axis=1)\n",
    "df_test = df_test.dropna(how='any', axis=0)"
   ]
  },
  {
   "cell_type": "code",
   "execution_count": null,
   "id": "O3AGHvhjKzQq",
   "metadata": {
    "id": "O3AGHvhjKzQq"
   },
   "outputs": [],
   "source": [
    "class_counts = df_test.groupby('pha').size()\n",
    "class_counts"
   ]
  },
  {
   "cell_type": "markdown",
   "id": "DNZkP9krP74n",
   "metadata": {
    "id": "DNZkP9krP74n"
   },
   "source": [
    "In the above output there are only 207 samples for class 1. By dropping the featres *diameter*, *w*, *per*, and *ma* we saw it maintain the data's integrity and only drop a few samples from class 1.\n",
    "\n",
    "**Use pandas drop method to drop the features from the dataframe**"
   ]
  },
  {
   "cell_type": "code",
   "execution_count": null,
   "id": "X14AJxohzwq3",
   "metadata": {
    "id": "X14AJxohzwq3"
   },
   "outputs": [],
   "source": [
    "columns = ['Unnamed: 0', 'name', 'extent', 'albedo', 'rot_per', 'GM', 'BV', 'UB', 'IR', 'spec_B', 'spec_T', 'G', 'condition_code', 'diameter', 'w', 'per', 'ma']\n",
    "df_classification = df_classification.drop(columns=columns)"
   ]
  },
  {
   "cell_type": "markdown",
   "id": "8e5e9a8a",
   "metadata": {
    "id": "8e5e9a8a"
   },
   "source": [
    "Now that all unnecessary columns have been dropped from the dataframe and all incorrect datatypes have been corrected, the remaining features containing only null values can be dropped from the dataframe as well as any entries containing any null values.\n",
    "\n",
    "**Use pandas dropna method to remove null values from the dataframe**"
   ]
  },
  {
   "cell_type": "code",
   "execution_count": null,
   "id": "FtIMDbA4z1O3",
   "metadata": {
    "id": "FtIMDbA4z1O3"
   },
   "outputs": [],
   "source": [
    "df_classification.dropna(how='all', axis=1, inplace=True)\n",
    "df_classification.dropna(how='any', axis=0, inplace=True)"
   ]
  },
  {
   "cell_type": "markdown",
   "id": "3e67bebd",
   "metadata": {
    "id": "3e67bebd"
   },
   "source": [
    "To verify that the dataframe for classification is now cleaned, pandas can be used to show that there are currently no null values within the dataset and that all of values within the dataset are only of numeric types.\n",
    "\n",
    "***Use pandas isnull and sum methods to print the sum of null values within the dataframe***"
   ]
  },
  {
   "cell_type": "code",
   "execution_count": null,
   "id": "d9eb6872",
   "metadata": {
    "id": "d9eb6872",
    "outputId": "4ac55ade-5b8d-4b1c-8390-4abf89b179b9"
   },
   "outputs": [
    {
     "name": "stdout",
     "output_type": "stream",
     "text": [
      "The Sum of Null Values in The Dataframe\n",
      "========================================\n",
      "a             0\n",
      "e             0\n",
      "i             0\n",
      "om            0\n",
      "q             0\n",
      "ad            0\n",
      "per_y         0\n",
      "data_arc      0\n",
      "n_obs_used    0\n",
      "H             0\n",
      "neo           0\n",
      "pha           0\n",
      "moid          0\n",
      "class         0\n",
      "n             0\n",
      "dtype: int64\n"
     ]
    }
   ],
   "source": [
    "print(\"The Sum of Null Values in The Dataframe\\n\" + \"=\"*40 + \"\\n\" + str(df_classification.isnull().sum()))"
   ]
  },
  {
   "cell_type": "markdown",
   "id": "7a743a85",
   "metadata": {
    "id": "7a743a85"
   },
   "source": [
    "**Use pandas dtypes method to show the catalog of data types in the dataframe**"
   ]
  },
  {
   "cell_type": "code",
   "execution_count": null,
   "id": "56faf9ad",
   "metadata": {
    "id": "56faf9ad",
    "outputId": "e2f8b332-02f6-4108-814e-6065d35dc968"
   },
   "outputs": [
    {
     "data": {
      "text/plain": [
       "a             float64\n",
       "e             float64\n",
       "i             float64\n",
       "om            float64\n",
       "q             float64\n",
       "ad            float64\n",
       "per_y         float64\n",
       "data_arc      float64\n",
       "n_obs_used    float64\n",
       "H             float64\n",
       "neo           float64\n",
       "pha           float64\n",
       "moid          float64\n",
       "class           int64\n",
       "n             float64\n",
       "dtype: object"
      ]
     },
     "execution_count": 199,
     "metadata": {},
     "output_type": "execute_result"
    }
   ],
   "source": [
    "df_classification.dtypes"
   ]
  },
  {
   "cell_type": "markdown",
   "id": "nYpIV8ReOYEd",
   "metadata": {
    "id": "nYpIV8ReOYEd"
   },
   "source": [
    "The classification data frame now contains *0* null values throughout all *15* features and all features have numeric data types. Although this was a sufficiant stopping point for regression, following the creation of the additional *6000* minority class values for *pha*, there still exists a significant class imbalance needing to be addressed. The pandas module can again be used to display the current class distribution for *pha* within the dataframe for classification following the dropping of null values.\n",
    "\n",
    "**Use pandas groupby method to output the class size distribution**"
   ]
  },
  {
   "cell_type": "code",
   "execution_count": null,
   "id": "j8OL9xwVs_eJ",
   "metadata": {
    "colab": {
     "base_uri": "https://localhost:8080/"
    },
    "id": "j8OL9xwVs_eJ",
    "outputId": "fce88d5d-9a4d-4342-d429-cc24d2d17ec0"
   },
   "outputs": [
    {
     "data": {
      "text/plain": [
       "pha\n",
       "0.0    818167\n",
       "1.0      8013\n",
       "dtype: int64"
      ]
     },
     "execution_count": 200,
     "metadata": {},
     "output_type": "execute_result"
    }
   ],
   "source": [
    "class_counts = df_classification.groupby('pha').size()\n",
    "class_counts"
   ]
  },
  {
   "cell_type": "markdown",
   "id": "eb46726b",
   "metadata": {
    "id": "eb46726b"
   },
   "source": [
    "As seen in the above cell, the pha feature's class distribution following the data cleaning is as follows - **818,167** instances of class *0* and **8013** of class *1*. At this point in time, the resample method provided by the sklearn utility module can be used to downsample the majority class *'0.0'* frequency to that of the minority class *'1.0'*. This will remove the large bias encountered by our original, imbalanced dataset and give more accurate results.\n",
    "\n",
    "**Use sklearn resample method to downsample the majority class to match the minority class**"
   ]
  },
  {
   "cell_type": "code",
   "execution_count": null,
   "id": "5t6C_UCvOAmU",
   "metadata": {
    "id": "5t6C_UCvOAmU"
   },
   "outputs": [],
   "source": [
    "# Separate majority and minority classes\n",
    "df_majority = df_classification[df_classification['pha'].iloc[:,]==0]\n",
    "df_minority = df_classification[df_classification['pha'].iloc[:,]==1]\n",
    " \n",
    "# Downsample majority class\n",
    "df_majority_downsampled = resample(df_majority, replace=False, n_samples=8013)\n",
    "df_classification = pd.concat([df_majority_downsampled, df_minority])"
   ]
  },
  {
   "cell_type": "markdown",
   "id": "BapfTujaOmEo",
   "metadata": {
    "id": "BapfTujaOmEo"
   },
   "source": [
    "Following the downsampling of the majority class, use pandas to see the resulting class distribution.\n",
    "\n",
    "**Print the counts of each classification for the feature *pha***"
   ]
  },
  {
   "cell_type": "code",
   "execution_count": null,
   "id": "i8ngsL0eODHA",
   "metadata": {
    "colab": {
     "base_uri": "https://localhost:8080/"
    },
    "id": "i8ngsL0eODHA",
    "outputId": "4745e40e-09d3-4ba4-823f-6a2dd11b50af",
    "scrolled": true
   },
   "outputs": [
    {
     "data": {
      "text/plain": [
       "pha\n",
       "0.0    8013\n",
       "1.0    8013\n",
       "dtype: int64"
      ]
     },
     "execution_count": 202,
     "metadata": {},
     "output_type": "execute_result"
    }
   ],
   "source": [
    "class_counts = df_classification.groupby('pha').size()\n",
    "class_counts"
   ]
  },
  {
   "cell_type": "markdown",
   "id": "c6221151",
   "metadata": {
    "id": "c6221151"
   },
   "source": [
    "Finally the *pha*\n",
    "\n",
    "**Use pandas shape method to identify the dimensions of the dataframe**"
   ]
  },
  {
   "cell_type": "code",
   "execution_count": null,
   "id": "a0792126",
   "metadata": {
    "id": "a0792126",
    "outputId": "fc4d5572-3094-4fc0-ce9c-191d4981a4e3"
   },
   "outputs": [
    {
     "data": {
      "text/plain": [
       "(16026, 15)"
      ]
     },
     "execution_count": 203,
     "metadata": {},
     "output_type": "execute_result"
    }
   ],
   "source": [
    "df_classification.shape"
   ]
  },
  {
   "cell_type": "markdown",
   "id": "961be3fe",
   "metadata": {
    "id": "961be3fe"
   },
   "source": [
    "##### Q3 Results:\n",
    "\n",
    "Following the data cleaning and class balancing needed for a classifer, the dataset went from containing **839,714** entries with **31** features to only containing **16,026** entries with just **15** features!😲 While only having a dataset consiting of **16,026** entries is not ideal, it ensure that any classification model made will contain no bias towards a particular class. And now that the dataset for classification is finalized, exploratory data analysis can help determine which of these 15 features, if any, can be used to determine whether a unknown asteroid could be considered a physically hazardous asteriod."
   ]
  },
  {
   "cell_type": "markdown",
   "id": "D6crj_N_RgyL",
   "metadata": {
    "id": "D6crj_N_RgyL"
   },
   "source": [
    "### Exploratory Data Analysis \n",
    "\n",
    "Now that data frames for both regression and classification have been cleaned and created, further feature selection can be done before the data is actually modeled. In order to identify features with strong regression and correlation values to one another in their respective data sets....\n",
    "\n",
    "\n",
    "Seaborn pairplot visualization can be used to display the relationship between features and the target values.\n",
    "correlation heatmap can visualize the strength of correlation, positive or negative, between features and targets. The correlation value can range from -1 to 1.\n",
    "ANOVA: Analysis of Variance (ANOVA) is a popular tool for statistics. ANOVA F-test is used to calculate the ratio between variance values. A higher ANOVA score means the feature is more useful to make an accurate prediction.\n",
    "\n",
    "Both the **regression** and **classification** dataframes will seperately undergoe the same exploratory data anaylsis process."
   ]
  },
  {
   "cell_type": "markdown",
   "id": "5df51868",
   "metadata": {
    "id": "5df51868"
   },
   "source": [
    "**Importing all libraries for exploratory data analysis**"
   ]
  },
  {
   "cell_type": "code",
   "execution_count": null,
   "id": "761b278a",
   "metadata": {
    "id": "761b278a"
   },
   "outputs": [],
   "source": [
    "import seaborn as sns\n",
    "import matplotlib.pyplot as plt\n",
    "from sklearn.feature_selection import SelectKBest"
   ]
  },
  {
   "cell_type": "markdown",
   "id": "a62f769d",
   "metadata": {
    "id": "a62f769d"
   },
   "source": [
    "#### Exploratory Data Analysis for Regression\n",
    "\n",
    "The first method that will be visualized is a *seaborn pairplot* of the **regression** dataframe. This will visualize the features correlation in a graphical format so that patterns may be recognized."
   ]
  },
  {
   "cell_type": "code",
   "execution_count": null,
   "id": "nbPZzVHZVb9H",
   "metadata": {
    "id": "nbPZzVHZVb9H"
   },
   "outputs": [],
   "source": [
    "sns.set(style=\"dark\", color_codes=True)\n",
    "g = sns.pairplot(data=df_regression)\n",
    "\n",
    "plt.show()"
   ]
  },
  {
   "cell_type": "markdown",
   "id": "4c3597fb",
   "metadata": {
    "id": "4c3597fb"
   },
   "source": [
    "From the pair plot above, some of the features can be selected for modeling diameter prediction. The pair plot allows for the important features to be selected for prior to modeling. As seen above, features like ***Absolute Magnitude (H)***, ***Data arc-span (data_arc)***, ***Longitude of the ascending node (om)***, and ***Argument of perihelion (w)*** should be selected for as parameters of diameter prediction.\n",
    "\n",
    "**Now the *seaborn heatmap* method for visualization**"
   ]
  },
  {
   "cell_type": "code",
   "execution_count": null,
   "id": "BrNI-UE6Vc9F",
   "metadata": {
    "id": "BrNI-UE6Vc9F"
   },
   "outputs": [],
   "source": [
    "plt.subplots(figsize = (16,15))\n",
    "sns.heatmap(df_regression.corr(),annot=True, annot_kws={'size':10})"
   ]
  },
  {
   "cell_type": "markdown",
   "id": "2f281385",
   "metadata": {
    "id": "2f281385"
   },
   "source": [
    "From the heatmap above on the regression data frame features with the highest correlation values for diameter will be chosen for modeling.\n",
    "\n",
    "**Features with correlation greater of at least |0.5|:**\n",
    " 1. *Data arc-span* (data_arc) **[0.5]**\n",
    " 2. *Absolute Magnitude* (H) **[-0.58]**\n",
    "\n",
    "\n",
    "Unfortunately, these correlation values are not very strong, meaning that diameter prediction will be difficult to achieve while using the regression data frame.\n",
    "\n",
    "#### Summary of the Regression Visualization"
   ]
  },
  {
   "cell_type": "markdown",
   "id": "397e05e9",
   "metadata": {
    "id": "397e05e9"
   },
   "source": [
    "#### Feature Selection for Regression\n",
    "Using anova\n",
    "\n",
    "**Set the target feature *'diameter'* to *y_regression* and the other remaining features to *x_regression***"
   ]
  },
  {
   "cell_type": "code",
   "execution_count": null,
   "id": "ddc32daf",
   "metadata": {
    "id": "ddc32daf"
   },
   "outputs": [],
   "source": [
    "x_regression = df_regression.drop(columns=['diameter'])\n",
    "y_regression = df_regression['diameter']"
   ]
  },
  {
   "cell_type": "markdown",
   "id": "4170b91e",
   "metadata": {
    "id": "4170b91e"
   },
   "source": [
    "Now that x_regression and y_regression data sets contain values, an anova can be created using the sklearn SelectKBest feature. The fit_transform method compares x_regression and y_regression, this allows for a final dataset containing resultant values to be created.\n",
    "\n",
    "**Use the SelectKBest function to create the anova then use the fit_transform method to acquire the anova values. Print the result**"
   ]
  },
  {
   "cell_type": "code",
   "execution_count": null,
   "id": "cf001d4a",
   "metadata": {
    "id": "cf001d4a"
   },
   "outputs": [],
   "source": [
    "# ANOVA on features on target to determine which features are significant\n",
    "anova = SelectKBest(k=10)\n",
    "# fitting ANOVA model with features and target\n",
    "bestX = anova.fit_transform(x_regression, y_regression)\n",
    "\n",
    "print(\"Regression ANOVA \", x_regression.shape)\n",
    "\n",
    "for i in range(len(x_regression.columns)):\n",
    "    print(f'{x_regression.columns[i]}: {anova.scores_[i]}')"
   ]
  },
  {
   "cell_type": "markdown",
   "id": "9fedfb3e",
   "metadata": {
    "id": "9fedfb3e"
   },
   "source": [
    "#### Summary of Regression Feature Selection\n",
    "\n",
    "The higher values are desired for feature selection from the above ANOVA. \n",
    "\n",
    "Based on the ANOVA, heatmap, and pairplot we can see that there are multiple features that have high importance when determining diameter. \n",
    "\n",
    "\n",
    "1.   per / per_y\n",
    "2.   ad\n",
    "3.   a\n",
    "4.   H\n",
    "5.   q\n",
    "6.   moid\n",
    "7.   neo\n",
    "8.   n\n",
    "9.   class\n",
    "10.  data_arc\n",
    "\n",
    "\n",
    "#### Summary of Regression Exploratory Data Anaylsis\n",
    "summary goes here"
   ]
  },
  {
   "cell_type": "markdown",
   "id": "37e611b7",
   "metadata": {
    "id": "37e611b7"
   },
   "source": [
    "#### Exploratory Data Analysis for Classification\n",
    "\n",
    "The first method that will be visualized is a *seaborn pairplot* of the **classification** dataframe. This will visualize the features correlation in a graphical format so that patterns may be recognized."
   ]
  },
  {
   "cell_type": "code",
   "execution_count": null,
   "id": "240e5dda",
   "metadata": {
    "id": "240e5dda"
   },
   "outputs": [],
   "source": [
    "sns.set(style=\"dark\", color_codes=True)\n",
    "g = sns.pairplot(data=df_classification)\n",
    "\n",
    "plt.show()"
   ]
  },
  {
   "cell_type": "markdown",
   "id": "93a8d02b",
   "metadata": {
    "id": "93a8d02b"
   },
   "source": []
  },
  {
   "cell_type": "markdown",
   "id": "dc6460db",
   "metadata": {
    "id": "dc6460db"
   },
   "source": [
    "**Next a heatmap on the data frame for classification will be created. This heatmap will focus on correlation of the Physically Hazardous Asteroid (pha) feature.**"
   ]
  },
  {
   "cell_type": "code",
   "execution_count": null,
   "id": "j6Q_CDL53JlH",
   "metadata": {
    "colab": {
     "base_uri": "https://localhost:8080/",
     "height": 830
    },
    "id": "j6Q_CDL53JlH",
    "outputId": "2f92956e-05c9-49f4-bf67-3d22a42861cc"
   },
   "outputs": [
    {
     "data": {
      "text/plain": [
       "<AxesSubplot:>"
      ]
     },
     "execution_count": 173,
     "metadata": {},
     "output_type": "execute_result"
    },
    {
     "data": {
      "image/png": "[encoded data removed]",
      "text/plain": [
       "<Figure size 1152x1080 with 2 Axes>"
      ]
     },
     "metadata": {
      "needs_background": "light"
     },
     "output_type": "display_data"
    }
   ],
   "source": [
    "plt.subplots(figsize = (16,15))\n",
    "sns.heatmap(df_classification.corr(),annot=True, annot_kws={'size':10})"
   ]
  },
  {
   "cell_type": "markdown",
   "id": "60f9c9b5",
   "metadata": {
    "id": "60f9c9b5"
   },
   "source": [
    "From the heatmap above, multiple features can be visually identified to have a strong correlation with the Physically Hazardous Asteroid (pha) feature.\n",
    "\n",
    "\n",
    "**Features with correlation greater than |0.7|:**\n",
    " 1. *Near Earth Object* (neo) **[0.98]**\n",
    " 2. *Asteroid orbit class* (class) **[-0.97]**\n",
    " 3. *Features Eccentricity* (e) **[0.85]**\n",
    " 4. *Absolute magnitude parameter* (H) **[0.70]**\n",
    "\n",
    "The features listed above will be used for modeling the prediction of the pha feature.\n",
    "\n",
    "#### Summary of the Classification Visualization\n",
    "\n"
   ]
  },
  {
   "cell_type": "markdown",
   "id": "1oyfawPRzkPx",
   "metadata": {
    "id": "1oyfawPRzkPx"
   },
   "source": [
    "#### Feature Selection for Classification\n",
    "Using anova"
   ]
  },
  {
   "cell_type": "markdown",
   "id": "eb7c7a88",
   "metadata": {
    "id": "eb7c7a88"
   },
   "source": [
    "**Set the target feature *'pha'* to *y_classification* and the other remaining features to *x_classification***"
   ]
  },
  {
   "cell_type": "code",
   "execution_count": null,
   "id": "yMGWD-cHz40t",
   "metadata": {
    "id": "yMGWD-cHz40t"
   },
   "outputs": [],
   "source": [
    "x_classification = df_classification.drop(columns=['pha'])\n",
    "y_classification = df_classification['pha']"
   ]
  },
  {
   "cell_type": "markdown",
   "id": "bc0e5173",
   "metadata": {
    "id": "bc0e5173"
   },
   "source": [
    "Now that x_classification and y_classification data sets contain values, an anova can be created using the sklearn SelectKBest feature. The fit method compares x_classification and y_classification, this allows for a final dataset containing resultant values to be created.\n",
    "\n",
    "**Use the SelectKBest function to create the anova then use the fit method to acquire the anova values. Print the result**"
   ]
  },
  {
   "cell_type": "code",
   "execution_count": null,
   "id": "Yv1zEcxdzmG6",
   "metadata": {
    "colab": {
     "base_uri": "https://localhost:8080/"
    },
    "id": "Yv1zEcxdzmG6",
    "outputId": "90aad415-b438-45a3-f431-33f59ffe9ba8"
   },
   "outputs": [
    {
     "name": "stdout",
     "output_type": "stream",
     "text": [
      "Classification ANOVA  (16026, 14)\n",
      "(16026,)\n",
      "a: 1130.8969318387587\n",
      "e: 41169.363006508\n",
      "i: 2357.4387323720584\n",
      "om: 210.38316652618553\n",
      "q: 4214.112131954215\n",
      "ad: 175.3752143479311\n",
      "per_y: 50.832836391241784\n",
      "data_arc: 2.123928558173535\n",
      "n_obs_used: 176.2178037531948\n",
      "H: 15362.82844324805\n",
      "neo: 369635.9764705881\n",
      "moid: 3153.975043512864\n",
      "class: 221321.71981636182\n",
      "n: 11640.78285764732\n"
     ]
    }
   ],
   "source": [
    "print(\"Classification ANOVA\")\n",
    "# ANOVA on features on target to determine which features are significant\n",
    "anova = SelectKBest(k=10)\n",
    "# fitting ANOVA model with features and target\n",
    "anova.fit(x_classification, y_classification)\n",
    "\n",
    "for i in range(len(x_classification.columns)):\n",
    "   print(f'{x_classification.columns[i]}: {anova.scores_[i]}')"
   ]
  },
  {
   "cell_type": "markdown",
   "id": "GXds1Gx_cA61",
   "metadata": {
    "id": "GXds1Gx_cA61"
   },
   "source": [
    "#### Summary of Classification Feature Selection\n",
    "The higher values are desired for feature selection from the above ANOVA. \n",
    "\n",
    "\n",
    "Based on the ANOVA and heatmap we can see that there are multiple features that have high importance when classifying pha. \n",
    "\n",
    "\n",
    "1.   neo\n",
    "2.   class\n",
    "3.   e\n",
    "4.   q\n",
    "5.   n\n",
    "6.   moid\n",
    "7.   i\n",
    "8.   data_arc\n",
    "9.   a\n",
    "10.  condition_code\n",
    "\n",
    "#### Summary of Classification Exploratory Data Analysis\n",
    "Summary goes here"
   ]
  },
  {
   "cell_type": "markdown",
   "id": "c530795a",
   "metadata": {
    "id": "c530795a"
   },
   "source": [
    "#### Exploratory Data Analysis Results:\n",
    "\n",
    "Important features have been selected for using both the visualization and anova methods. Now that these features have been identified, machine learning approaches can be used to model the data."
   ]
  },
  {
   "cell_type": "markdown",
   "id": "UIGpx4HPRnRc",
   "metadata": {
    "id": "UIGpx4HPRnRc"
   },
   "source": [
    "## Machine Learning Approaches\n",
    "\n",
    "We tried multiple models for our regression prediction. When it came to parameter tuning, some took an excessive amount of resources and we chose to look elsewhere. If a model performed badly after gridsearch and 10-fold cross validation, we looked into more data and other methods of improving but inevitably found other models that performed well with less tuning and less computational cost. \n",
    "\n",
    "**All attempted models**\n",
    "\n",
    "| Algorithm | Supervised? | Regression or Classification? | Reasoning |\n",
    "| -------------- | :--------------: | :-------------: | ---------------- |\n",
    "| Random Forest | Supervised | Regression | High performing model |\n",
    "| K-Nearest Neighbor | Unsupervised | Regression |   |\n",
    "| Stochastic Gradient Descent | Supervised | Regression | Good for large amounts of data |\n",
    "| Gradient Boosting Regressor | Supervised | Regression |   |\n",
    "| Lasso | Supervised | Regression | Feature selection |\n",
    "| Support Vector Machine | Supervised | Regression | Can model both linear and non-linear relationships between variables |\n",
    "| Logistic Regression | Supervised | Classification | Base model for predicting probability of target |\n",
    "| Support Vector Machine | Supervised | Classification | Works well for low-dimensional data |\n",
    "| Decision Tree | Supervised | Classification | Easy to compute and explain implementation |\n",
    "\n"
   ]
  },
  {
   "cell_type": "markdown",
   "id": "dDrmstW-Rtcz",
   "metadata": {
    "id": "dDrmstW-Rtcz"
   },
   "source": [
    "### Justify ML algorithms in terms of the problem itself and the methods you want to use. \n",
    "* How did you employ them? \n",
    "* What features worked well and what didn't?\n",
    "* Provide documentation for integration  "
   ]
  },
  {
   "cell_type": "markdown",
   "id": "wRkCPS8YRvg4",
   "metadata": {
    "id": "wRkCPS8YRvg4"
   },
   "source": [
    "### Tools and Infrastructure Tried and Not Used\n",
    "\n",
    "Describe any tools and infrastruicture that you tried and ended up not using.\n",
    "What was the problem? \n",
    "Describe infrastructure used. "
   ]
  },
  {
   "cell_type": "markdown",
   "id": "Yg0_ctU3nYie",
   "metadata": {
    "id": "Yg0_ctU3nYie"
   },
   "source": [
    "## **Regression Models for predicting diameter**"
   ]
  },
  {
   "cell_type": "code",
   "execution_count": null,
   "id": "SqgFkEp-tbU2",
   "metadata": {
    "id": "SqgFkEp-tbU2"
   },
   "outputs": [],
   "source": [
    "from sklearn.model_selection import train_test_split, cross_val_score\n",
    "from sklearn.model_selection import GridSearchCV\n",
    "\n",
    "x_train, x_test, y_train, y_test = train_test_split(bestX , y_regression, test_size = 0.2, random_state=1)"
   ]
  },
  {
   "cell_type": "markdown",
   "id": "7924b2f2",
   "metadata": {
    "id": "7924b2f2"
   },
   "source": [
    "#### KNN Regressor"
   ]
  },
  {
   "cell_type": "code",
   "execution_count": null,
   "id": "cf134a76",
   "metadata": {
    "colab": {
     "base_uri": "https://localhost:8080/"
    },
    "id": "cf134a76",
    "outputId": "593ff771-d44a-4ec6-af46-9831778ea536"
   },
   "outputs": [
    {
     "name": "stdout",
     "output_type": "stream",
     "text": [
      "Base KNN score: 0.6613847267130195\n"
     ]
    }
   ],
   "source": [
    "from sklearn.neighbors import KNeighborsRegressor\n",
    "\n",
    "knn = KNeighborsRegressor()\n",
    "knn.fit(x_train, y_train)\n",
    "print(\"Base KNN score:\", knn.score(x_test,y_test))"
   ]
  },
  {
   "cell_type": "code",
   "execution_count": null,
   "id": "6b495142",
   "metadata": {
    "id": "6b495142",
    "outputId": "0e767c54-53bb-47d6-8644-3291ab1e905b"
   },
   "outputs": [
    {
     "data": {
      "text/plain": [
       "\"\\nparam_grid = {'n_neighbors' : [3],\\n                'weights' : ['distance'],\\n                'metric' : ['chebyshev','euclidean', ]\\n                 }\\n\\ngs = GridSearchCV(estimator=knn, param_grid=param_grid, scoring='r2', cv=10)\\ngs = gs.fit(x_train, y_train)\\nprint(gs.best_params_)\\nprint(gs.best_score_)\\n\""
      ]
     },
     "execution_count": 65,
     "metadata": {},
     "output_type": "execute_result"
    }
   ],
   "source": [
    "\"\"\"\n",
    "param_grid = {'n_neighbors' : [3],\n",
    "                'weights' : ['distance'],\n",
    "                'metric' : ['chebyshev','euclidean', ]\n",
    "                 }\n",
    "\n",
    "gs = GridSearchCV(estimator=knn, param_grid=param_grid, scoring='r2', cv=10)\n",
    "gs = gs.fit(x_train, y_train)\n",
    "print(gs.best_params_)\n",
    "print(gs.best_score_)\n",
    "\"\"\""
   ]
  },
  {
   "cell_type": "markdown",
   "id": "J7IGQDNiotwC",
   "metadata": {
    "id": "J7IGQDNiotwC"
   },
   "source": [
    "After running the grid search with the parameter grid above, the following parameters were selected as the best performing\n",
    "\n",
    "*   n_neighbors: 3\n",
    "*   weights: 'distance'\n",
    "*   metric: 'euclidean'"
   ]
  },
  {
   "cell_type": "code",
   "execution_count": null,
   "id": "c6773a82",
   "metadata": {
    "id": "c6773a82",
    "outputId": "57cfc804-6b8e-4b21-f9e8-6d2a04f22477"
   },
   "outputs": [
    {
     "name": "stdout",
     "output_type": "stream",
     "text": [
      "Optimal KNN:  0.6367102384591373\n"
     ]
    }
   ],
   "source": [
    "bestKNN = KNeighborsRegressor(n_neighbors=3, weights='distance', metric='euclidean')\n",
    "bestKNN.fit(x_train, y_train)\n",
    "pred_knn_opt = bestKNN.predict(x_test)\n",
    "\n",
    "print('Optimal KNN: ', bestKNN.score(x_test,y_test))"
   ]
  },
  {
   "cell_type": "code",
   "execution_count": null,
   "id": "d6405c12",
   "metadata": {
    "id": "d6405c12",
    "outputId": "2abae19e-4149-4ea6-bf7a-91e962fe4d8e"
   },
   "outputs": [
    {
     "name": "stdout",
     "output_type": "stream",
     "text": [
      "Optimal KNN CV mean score:  0.6346900496828048\n"
     ]
    }
   ],
   "source": [
    "cross_val_KNN = cross_val_score(bestKNN, x_train, y_train, cv=10, n_jobs=16)\n",
    "print(\"Optimal KNN CV mean score: \", cross_val_KNN.mean())"
   ]
  },
  {
   "cell_type": "code",
   "execution_count": null,
   "id": "jzs8_VEsZSKl",
   "metadata": {
    "id": "jzs8_VEsZSKl",
    "outputId": "46cdf3cf-5cfc-4e9c-ebfa-30192cf9ab31"
   },
   "outputs": [
    {
     "data": {
      "text/plain": [
       "Text(0.5, 1.0, 'Actual vs Predicted Asteroid Diameter using KNN')"
      ]
     },
     "execution_count": 68,
     "metadata": {},
     "output_type": "execute_result"
    },
    {
     "data": {
      "image/png": "[encoded data removed]",
      "text/plain": [
       "<Figure size 432x288 with 1 Axes>"
      ]
     },
     "metadata": {},
     "output_type": "display_data"
    }
   ],
   "source": [
    "import matplotlib.pyplot as plt\n",
    "color = 1 - (y_test / pred_knn_opt)\n",
    "fig, ax = plt.subplots()\n",
    "plt.scatter(y_test, pred_knn_opt, c=color, cmap='plasma', vmin=-1, vmax=1, alpha=0.5)\n",
    "ax.plot([y_test.min(), y_test.max()], [y_test.min(), y_test.max()], 'k--', lw=2)\n",
    "ax.set_xlabel(\"Actual Diameter\")\n",
    "ax.set_ylabel(\"Predicted Diameter\")\n",
    "plt.title(\"Actual vs Predicted Asteroid Diameter using KNN\")"
   ]
  },
  {
   "cell_type": "markdown",
   "id": "jn-WGIN3EqBw",
   "metadata": {
    "id": "jn-WGIN3EqBw"
   },
   "source": [
    "#### Epsilon-Support Vector Regression (SVR)"
   ]
  },
  {
   "cell_type": "code",
   "execution_count": null,
   "id": "9RsffdDIFV0h",
   "metadata": {
    "id": "9RsffdDIFV0h"
   },
   "outputs": [],
   "source": [
    "from sklearn.preprocessing import StandardScaler as ss\n",
    "\n",
    "sc = ss()\n",
    "x_train_std = sc.fit_transform(x_train)\n",
    "x_test_std = sc.fit_transform(x_test)"
   ]
  },
  {
   "cell_type": "code",
   "execution_count": null,
   "id": "x5O9or9hEsA8",
   "metadata": {
    "id": "x5O9or9hEsA8",
    "outputId": "c3562d71-f849-46b3-c194-a4e6aa426517"
   },
   "outputs": [
    {
     "name": "stdout",
     "output_type": "stream",
     "text": [
      "Base SVR score:  0.6559580484997284\n"
     ]
    }
   ],
   "source": [
    "from sklearn.svm import SVR\n",
    "\n",
    "svr=SVR()\n",
    "\n",
    "svr.fit(x_train_std, y_train)\n",
    "pred_svr = svr.predict(x_test_std)\n",
    "print(\"Base SVR score: \", svr.score(x_test_std, y_test))"
   ]
  },
  {
   "cell_type": "code",
   "execution_count": null,
   "id": "3b5f45aa",
   "metadata": {
    "id": "3b5f45aa",
    "outputId": "6c1453ff-dc9a-41dc-a659-4d0ab6c1363e"
   },
   "outputs": [
    {
     "data": {
      "text/plain": [
       "\"\\nparam_grid = [{'C' : [.001, .01, .1, 1, 10],\\n                'epsilon' : [.001, .01, .1, 1, 10]}]\\ngs = GridSearchCV(estimator=svr, param_grid=param_grid, scoring='r2', cv=10, return_train_score=True, verbose=True, n_jobs=16)\\nsvr.fit(x_train, ytrain)\\ngs = gs.fit(x_train, ytrain)\\nprint(gs.best_params_)\\nprint(gs.best_score_)\\n\""
      ]
     },
     "execution_count": 71,
     "metadata": {},
     "output_type": "execute_result"
    }
   ],
   "source": [
    "\"\"\"\n",
    "param_grid = [{'C' : [.001, .01, .1, 1, 10],\n",
    "                'epsilon' : [.001, .01, .1, 1, 10]}]\n",
    "gs = GridSearchCV(estimator=svr, param_grid=param_grid, scoring='r2', cv=10, return_train_score=True, verbose=True, n_jobs=16)\n",
    "svr.fit(x_train, ytrain)\n",
    "gs = gs.fit(x_train, ytrain)\n",
    "print(gs.best_params_)\n",
    "print(gs.best_score_)\n",
    "\"\"\""
   ]
  },
  {
   "cell_type": "markdown",
   "id": "b67db2bf",
   "metadata": {
    "id": "b67db2bf"
   },
   "source": [
    "Parameter tuning for SVR will be accomplished with gridsearchCV on parameters C and epsilon ranging from 0.001 to 100 by multiples of 10.\n",
    "\n",
    "SVR was selected after attempting Stochastic Gradient Descent. After over 72 hrs of parameter tuning, approximately .40 was the highest R2 score achieved. SGD Regression on this dataset required the max_iter to be changed from the default of 1,000 to 1,000,000 to ensure convergence occured. Parameters epsilon and eta0 made almost no impact on the SGD Regression score, but a slight difference in the alpha caused the score to jump from approximately .40 into an unrealistically large integer.\n",
    "\n",
    "Grid search returned the best performing parameters:\n",
    "\n",
    "*   C: 10\n",
    "*   epsilon: 1"
   ]
  },
  {
   "cell_type": "code",
   "execution_count": null,
   "id": "mZlzcr2BZuYD",
   "metadata": {
    "id": "mZlzcr2BZuYD",
    "outputId": "01d56591-0cb2-4c3f-d4d3-d52c1178794c"
   },
   "outputs": [
    {
     "name": "stdout",
     "output_type": "stream",
     "text": [
      "Optimal SVR score:  0.7644326792110565\n"
     ]
    }
   ],
   "source": [
    "svr=SVR(C=10, epsilon=1)\n",
    "\n",
    "svr.fit(x_train_std, y_train)\n",
    "pred_svr_opt = svr.predict(x_test_std)\n",
    "\n",
    "print(\"Optimal SVR score: \", svr.score(x_test_std,y_test))"
   ]
  },
  {
   "cell_type": "code",
   "execution_count": null,
   "id": "7f486a3c",
   "metadata": {
    "id": "7f486a3c",
    "outputId": "601356c0-9cd4-42c6-fb49-0322e19bd335"
   },
   "outputs": [
    {
     "name": "stdout",
     "output_type": "stream",
     "text": [
      "Optimal SVR CV mean score:  0.7611819114094261\n"
     ]
    }
   ],
   "source": [
    "cross_val_svr = cross_val_score(svr, x_train_std, y_train, cv=10, n_jobs=16)\n",
    "print(\"Optimal SVR CV mean score: \", cross_val_svr.mean())"
   ]
  },
  {
   "cell_type": "code",
   "execution_count": null,
   "id": "vkpR0MEbZtoQ",
   "metadata": {
    "id": "vkpR0MEbZtoQ",
    "outputId": "3a1b09ef-a6fe-4607-e8e2-7aaa1cc3bd24"
   },
   "outputs": [
    {
     "data": {
      "text/plain": [
       "Text(0.5, 1.0, 'Actual vs Predicted Asteroid Diameter using SVR')"
      ]
     },
     "execution_count": 98,
     "metadata": {},
     "output_type": "execute_result"
    },
    {
     "data": {
      "image/png": "[encoded data removed]",
      "text/plain": [
       "<Figure size 432x288 with 1 Axes>"
      ]
     },
     "metadata": {},
     "output_type": "display_data"
    }
   ],
   "source": [
    "color = 1 - (y_test / pred_svr_opt)\n",
    "fig, ax = plt.subplots()\n",
    "plt.scatter(y_test, pred_svr_opt, c=color, cmap='plasma', vmin=-1, vmax=1, alpha=0.5)\n",
    "ax.plot([y_test.min(), y_test.max()], [y_test.min(), y_test.max()], 'k--', lw=2)\n",
    "ax.set_xlabel(\"Actual Diameter\")\n",
    "ax.set_ylabel(\"Predicted Diameter\")\n",
    "plt.title(\"Actual vs Predicted Asteroid Diameter using SVR\")"
   ]
  },
  {
   "cell_type": "markdown",
   "id": "5beb5a30",
   "metadata": {
    "id": "5beb5a30"
   },
   "source": [
    "#### Gradient Boosting Regressor"
   ]
  },
  {
   "cell_type": "markdown",
   "id": "5beee6aa",
   "metadata": {
    "id": "5beee6aa"
   },
   "source": [
    "A fitted GBR model using it's default paramters. n_estimators = 100"
   ]
  },
  {
   "cell_type": "code",
   "execution_count": null,
   "id": "50b9a77a",
   "metadata": {
    "colab": {
     "base_uri": "https://localhost:8080/"
    },
    "id": "50b9a77a",
    "outputId": "66c21bf3-0cc5-4182-f454-4df436d2ba1d"
   },
   "outputs": [
    {
     "name": "stdout",
     "output_type": "stream",
     "text": [
      "Base GBR score:  0.8860433879474203\n"
     ]
    }
   ],
   "source": [
    "from sklearn.ensemble import GradientBoostingRegressor\n",
    "\n",
    "gbr = GradientBoostingRegressor(random_state=0)\n",
    "gbr.fit(x_train, y_train)\n",
    "print(\"Base GBR score: \",gbr.score(x_test, y_test))"
   ]
  },
  {
   "cell_type": "code",
   "execution_count": null,
   "id": "b7ffce05",
   "metadata": {
    "id": "b7ffce05",
    "outputId": "f7c94768-0ccb-41e4-81e8-1d77179efa2b"
   },
   "outputs": [
    {
     "data": {
      "text/plain": [
       "\"\\nparam_grid = {'n_estimators' : [105],\\n             }\\ngbr = GradientBoostingRegressor()\\ngs = GridSearchCV(estimator=gbr, param_grid=param_grid, scoring='r2', cv=10)\\ngs = gs.fit(x_train, y_train)\\nprint(gs.best_params_)\\nprint(gs.best_score_)\\n\""
      ]
     },
     "execution_count": 75,
     "metadata": {},
     "output_type": "execute_result"
    }
   ],
   "source": [
    "\"\"\"\n",
    "param_grid = {'n_estimators' : [105],\n",
    "             }\n",
    "gbr = GradientBoostingRegressor()\n",
    "gs = GridSearchCV(estimator=gbr, param_grid=param_grid, scoring='r2', cv=10)\n",
    "gs = gs.fit(x_train, y_train)\n",
    "print(gs.best_params_)\n",
    "print(gs.best_score_)\n",
    "\"\"\""
   ]
  },
  {
   "cell_type": "markdown",
   "id": "xkgtD2jEom6u",
   "metadata": {
    "id": "xkgtD2jEom6u"
   },
   "source": [
    "After running the grid search with the parameter grid above, the following parameters were selected as the best performing\n",
    "\n",
    "*   n_estimators: 105"
   ]
  },
  {
   "cell_type": "code",
   "execution_count": null,
   "id": "53e6fb90",
   "metadata": {
    "colab": {
     "base_uri": "https://localhost:8080/"
    },
    "id": "53e6fb90",
    "outputId": "6af776af-01fa-48bc-aff3-18476f176e59"
   },
   "outputs": [
    {
     "name": "stdout",
     "output_type": "stream",
     "text": [
      "Optimal GBR score:  0.8855842001165629\n"
     ]
    }
   ],
   "source": [
    "gbr_opt = GradientBoostingRegressor(n_estimators=105, random_state=0)\n",
    "gbr_opt.fit(x_train, y_train)\n",
    "pred_gbr_opt = gbr_opt.predict(x_test)\n",
    "print(\"Optimal GBR score: \",gbr_opt.score(x_test, y_test))"
   ]
  },
  {
   "cell_type": "code",
   "execution_count": null,
   "id": "d8876c28",
   "metadata": {
    "id": "d8876c28",
    "outputId": "9ba1ff95-05cb-4ffc-ff76-2239be208b0f"
   },
   "outputs": [
    {
     "name": "stdout",
     "output_type": "stream",
     "text": [
      "Optimal GBR CV mean score:  0.8888411931245235\n"
     ]
    }
   ],
   "source": [
    "cross_val_GBR = cross_val_score(gbr_opt, x_train, y_train, cv=10, n_jobs=16)\n",
    "print(\"Optimal GBR CV mean score: \", cross_val_GBR.mean())"
   ]
  },
  {
   "cell_type": "code",
   "execution_count": null,
   "id": "PEhp89hLaLkt",
   "metadata": {
    "id": "PEhp89hLaLkt",
    "outputId": "99863b98-8c36-45e2-d0d0-a88d1cfad359"
   },
   "outputs": [
    {
     "data": {
      "text/plain": [
       "Text(0.5, 1.0, 'Actual vs Predicted Asteroid Diameter using GBR')"
      ]
     },
     "execution_count": 78,
     "metadata": {},
     "output_type": "execute_result"
    },
    {
     "data": {
      "image/png": "[encoded data removed]",
      "text/plain": [
       "<Figure size 432x288 with 1 Axes>"
      ]
     },
     "metadata": {},
     "output_type": "display_data"
    }
   ],
   "source": [
    "color = 1 - (y_test / pred_gbr_opt)\n",
    "fig, ax = plt.subplots()\n",
    "plt.scatter(y_test, pred_gbr_opt, c=color, cmap='plasma', vmin=-1, vmax=1, alpha=0.5)\n",
    "ax.plot([y_test.min(), y_test.max()], [y_test.min(), y_test.max()], 'k--', lw=2)\n",
    "ax.set_xlabel(\"Actual Diameter\")\n",
    "ax.set_ylabel(\"Predicted Diameter\")\n",
    "plt.title(\"Actual vs Predicted Asteroid Diameter using GBR\")"
   ]
  },
  {
   "cell_type": "markdown",
   "id": "A5ZT30RhmGry",
   "metadata": {
    "id": "A5ZT30RhmGry"
   },
   "source": [
    "#### Random Forest Regressor"
   ]
  },
  {
   "cell_type": "code",
   "execution_count": null,
   "id": "L3QZda4-mLvW",
   "metadata": {
    "colab": {
     "base_uri": "https://localhost:8080/"
    },
    "id": "L3QZda4-mLvW",
    "outputId": "f9af3646-8ecb-4508-e52f-018b5b6b9e30"
   },
   "outputs": [
    {
     "name": "stdout",
     "output_type": "stream",
     "text": [
      "Base RF score:  0.896929202273233\n"
     ]
    }
   ],
   "source": [
    "from sklearn.ensemble import RandomForestRegressor\n",
    "\n",
    "rf_base = RandomForestRegressor()\n",
    "\n",
    "rf_base.fit(x_train, y_train)\n",
    "pred_rf_base = rf_base.predict(x_test)\n",
    "print(\"Base RF score: \",rf_base.score(x_test,y_test))"
   ]
  },
  {
   "cell_type": "code",
   "execution_count": null,
   "id": "0KzjpCCamVOI",
   "metadata": {
    "id": "0KzjpCCamVOI",
    "outputId": "13862478-c449-4bca-cb93-c3d07062a4a5"
   },
   "outputs": [
    {
     "data": {
      "text/plain": [
       "'\\nparam_grid = [{\\'n_estimators\\' : [100, 150, 200, 250, 300],\\n               \\'max_depth\\' : [None, 10, 20, 30, 40],\\n               \\'min_samples_split\\' : [2, 3, 4]}]\\n\\ngs = GridSearchCV(estimator=rf, param_grid=param_grid, scoring=\\'r2\\', cv=10, return_train_score=True)\\ngs.fit(xtrain,ytrain)\\nprint(\"\\nBest parameters: \",gs.best_params_)\\nprint(gs.best_score_)\\n'"
      ]
     },
     "execution_count": 80,
     "metadata": {},
     "output_type": "execute_result"
    }
   ],
   "source": [
    "\"\"\"\n",
    "param_grid = [{'n_estimators' : [100, 150, 200, 250, 300],\n",
    "               'max_depth' : [None, 10, 20, 30, 40],\n",
    "               'min_samples_split' : [2, 3, 4]}]\n",
    "\n",
    "gs = GridSearchCV(estimator=rf, param_grid=param_grid, scoring='r2', cv=10, return_train_score=True)\n",
    "gs.fit(xtrain,ytrain)\n",
    "print(\"\\nBest parameters: \",gs.best_params_)\n",
    "print(gs.best_score_)\n",
    "\"\"\""
   ]
  },
  {
   "cell_type": "markdown",
   "id": "M-1gYlnjmgug",
   "metadata": {
    "id": "M-1gYlnjmgug"
   },
   "source": [
    "After running the grid search with the parameter grid above, the following parameters were selected as the best performing\n",
    "\n",
    "*   n_estimators: 100\n",
    "*   max_depth 20\n",
    "*   min_samples_split: 3\n"
   ]
  },
  {
   "cell_type": "code",
   "execution_count": null,
   "id": "6IePLtoCmdhr",
   "metadata": {
    "colab": {
     "base_uri": "https://localhost:8080/"
    },
    "id": "6IePLtoCmdhr",
    "outputId": "2296238b-49d4-48c2-919e-8a9a4f00aafd"
   },
   "outputs": [
    {
     "name": "stdout",
     "output_type": "stream",
     "text": [
      "Optimal RF score:  0.8880759108084255\n"
     ]
    }
   ],
   "source": [
    "rf_opt = RandomForestRegressor(n_estimators=100, max_depth=20, min_samples_split=3)\n",
    "\n",
    "rf_opt.fit(x_train, y_train)\n",
    "pred_rf_opt = rf_opt.predict(x_test)\n",
    "\n",
    "print(\"Optimal RF score: \", rf_opt.score(x_test,y_test))"
   ]
  },
  {
   "cell_type": "code",
   "execution_count": null,
   "id": "4726cda6",
   "metadata": {
    "id": "4726cda6",
    "outputId": "1438d460-464e-495f-b33f-8e99858334a5"
   },
   "outputs": [
    {
     "name": "stdout",
     "output_type": "stream",
     "text": [
      "Optimal RF CV mean score:  0.8784215504509483\n"
     ]
    }
   ],
   "source": [
    "cross_val_rf = cross_val_score(rf_opt, x_train, y_train, cv=10, n_jobs=16)\n",
    "print(\"Optimal RF CV mean score: \", cross_val_rf.mean())"
   ]
  },
  {
   "cell_type": "code",
   "execution_count": null,
   "id": "LzdvC0itaahc",
   "metadata": {
    "id": "LzdvC0itaahc",
    "outputId": "55e28526-bb7c-4d03-f678-f1f033fcb7db"
   },
   "outputs": [
    {
     "data": {
      "text/plain": [
       "Text(0.5, 1.0, 'Actual vs Predicted Asteroid Diameter using RF')"
      ]
     },
     "execution_count": 83,
     "metadata": {},
     "output_type": "execute_result"
    },
    {
     "data": {
      "image/png": "[encoded data removed]",
      "text/plain": [
       "<Figure size 432x288 with 1 Axes>"
      ]
     },
     "metadata": {},
     "output_type": "display_data"
    }
   ],
   "source": [
    "color = 1 - (y_test / pred_rf_opt)\n",
    "fig, ax = plt.subplots()\n",
    "plt.scatter(y_test, pred_rf_opt, c=color, cmap='plasma', vmin=-1, vmax=1, alpha=0.5)\n",
    "# ax.scatter(y_test, pred)\n",
    "ax.plot([y_test.min(), y_test.max()], [y_test.min(), y_test.max()], 'k--', lw=2)\n",
    "ax.set_xlabel(\"Actual Diameter\")\n",
    "ax.set_ylabel(\"Predicted Diameter\")\n",
    "plt.title(\"Actual vs Predicted Asteroid Diameter using RF\")"
   ]
  },
  {
   "cell_type": "markdown",
   "id": "b56c5b72",
   "metadata": {
    "id": "b56c5b72"
   },
   "source": [
    "### Results from Regression\n",
    "\n",
    "| Sucess Measures: |  CV Score | F1 | Precision | Recall | R^2 |\n",
    "| ---------- | :-----------: | :-----------: | :-----------: | :-----------: | :-----------: |\n",
    "| Regressing Diameter | x | - | - | - | x |"
   ]
  },
  {
   "cell_type": "markdown",
   "id": "9vnCK6gOnlw3",
   "metadata": {
    "id": "9vnCK6gOnlw3"
   },
   "source": [
    "### **Classification models for predicting if an asteroid is hazardous:**"
   ]
  },
  {
   "cell_type": "code",
   "execution_count": null,
   "id": "r3l7uF0sadYj",
   "metadata": {
    "id": "r3l7uF0sadYj"
   },
   "outputs": [],
   "source": [
    "from sklearn.linear_model import LogisticRegression as lr\n",
    "from sklearn.model_selection import train_test_split, cross_val_score\n",
    "from sklearn.metrics import classification_report, confusion_matrix, plot_confusion_matrix\n",
    "from sklearn.decomposition import PCA\n",
    "from sklearn.svm import SVC\n",
    "from sklearn.tree import DecisionTreeClassifier\n",
    "import numpy as np"
   ]
  },
  {
   "cell_type": "code",
   "execution_count": null,
   "id": "tCBZlmr7aesh",
   "metadata": {
    "id": "tCBZlmr7aesh"
   },
   "outputs": [],
   "source": [
    "xtrain, xtest, ytrain, ytest = train_test_split(x_classifici, y_c, stratify=y_c, test_size=.3, random_state=1)\n",
    "\n",
    "pca = PCA(n_components=2)\n",
    "xtrain = pca.fit_transform(xtrain,ytrain)\n",
    "xtest = pca.transform(xtest)"
   ]
  },
  {
   "cell_type": "markdown",
   "id": "9SmzVjXsui8z",
   "metadata": {
    "id": "9SmzVjXsui8z"
   },
   "source": [
    "#### Logistic Regression"
   ]
  },
  {
   "cell_type": "code",
   "execution_count": null,
   "id": "O3nVkTPanwEP",
   "metadata": {
    "colab": {
     "base_uri": "https://localhost:8080/"
    },
    "id": "O3nVkTPanwEP",
    "outputId": "e5d3cc06-c567-44d1-8607-b281f70293ff"
   },
   "outputs": [
    {
     "name": "stdout",
     "output_type": "stream",
     "text": [
      "Base Logit:  0.6792845257903494\n"
     ]
    },
    {
     "name": "stderr",
     "output_type": "stream",
     "text": [
      "C:\\Python38\\lib\\site-packages\\sklearn\\utils\\deprecation.py:87: FutureWarning: Function plot_confusion_matrix is deprecated; Function `plot_confusion_matrix` is deprecated in 1.0 and will be removed in 1.2. Use one of the class methods: ConfusionMatrixDisplay.from_predictions or ConfusionMatrixDisplay.from_estimator.\n",
      "  warnings.warn(msg, category=FutureWarning)\n"
     ]
    },
    {
     "data": {
      "text/plain": [
       "<Figure size 432x288 with 0 Axes>"
      ]
     },
     "metadata": {},
     "output_type": "display_data"
    },
    {
     "data": {
      "image/png": "[encoded data removed]",
      "text/plain": [
       "<Figure size 432x288 with 2 Axes>"
      ]
     },
     "metadata": {},
     "output_type": "display_data"
    },
    {
     "name": "stdout",
     "output_type": "stream",
     "text": [
      "              precision    recall  f1-score   support\n",
      "\n",
      "         0.0       0.66      0.69      0.67      2294\n",
      "         1.0       0.70      0.67      0.69      2514\n",
      "\n",
      "    accuracy                           0.68      4808\n",
      "   macro avg       0.68      0.68      0.68      4808\n",
      "weighted avg       0.68      0.68      0.68      4808\n",
      "\n"
     ]
    }
   ],
   "source": [
    "lreg = lr()\n",
    "lreg.fit(xtrain, ytrain)\n",
    "pred_lreg = lreg.predict(xtest)\n",
    "\n",
    "print(\"Base Logit: \", lreg.score(xtest,ytest))\n",
    "\n",
    "cm = confusion_matrix(ytest, pred_lreg)\n",
    "plt.figure()\n",
    "plot_confusion_matrix(lreg, xtest, ytest)\n",
    "plt.title(\"Logistic Regression Model - Confusion Matrix\")\n",
    "plt.xticks([0,1], ['No', 'Yes'])\n",
    "plt.yticks([0,1], ['No', 'Yes'])\n",
    "plt.show()\n",
    "\n",
    "print(classification_report(pred_lreg, ytest))"
   ]
  },
  {
   "cell_type": "code",
   "execution_count": null,
   "id": "7Wffn7jMahgP",
   "metadata": {
    "id": "7Wffn7jMahgP",
    "outputId": "2278d0e0-f60d-49dc-f20f-735ab89f221d"
   },
   "outputs": [
    {
     "name": "stdout",
     "output_type": "stream",
     "text": [
      "Average 10-fold score: 0.671\n"
     ]
    }
   ],
   "source": [
    "lreg_scores = cross_val_score(lreg, xtest, ytest, cv=5)\n",
    "print('Average 10-fold score: %.3f' % np.mean(lreg_scores))"
   ]
  },
  {
   "cell_type": "markdown",
   "id": "mbQqWPJxuplu",
   "metadata": {
    "id": "mbQqWPJxuplu"
   },
   "source": [
    "#### Support Vector Classification"
   ]
  },
  {
   "cell_type": "code",
   "execution_count": null,
   "id": "f_47pTSqajT2",
   "metadata": {
    "id": "f_47pTSqajT2",
    "outputId": "7f791d44-f602-4e86-8bd2-a452b08a7df9"
   },
   "outputs": [
    {
     "name": "stderr",
     "output_type": "stream",
     "text": [
      "C:\\Python38\\lib\\site-packages\\sklearn\\utils\\deprecation.py:87: FutureWarning: Function plot_confusion_matrix is deprecated; Function `plot_confusion_matrix` is deprecated in 1.0 and will be removed in 1.2. Use one of the class methods: ConfusionMatrixDisplay.from_predictions or ConfusionMatrixDisplay.from_estimator.\n",
      "  warnings.warn(msg, category=FutureWarning)\n"
     ]
    },
    {
     "data": {
      "text/plain": [
       "<Figure size 432x288 with 0 Axes>"
      ]
     },
     "metadata": {},
     "output_type": "display_data"
    },
    {
     "data": {
      "image/png": "[encoded data removed]",
      "text/plain": [
       "<Figure size 432x288 with 2 Axes>"
      ]
     },
     "metadata": {},
     "output_type": "display_data"
    },
    {
     "name": "stdout",
     "output_type": "stream",
     "text": [
      "              precision    recall  f1-score   support\n",
      "\n",
      "         0.0       0.65      0.65      0.65      2401\n",
      "         1.0       0.65      0.65      0.65      2407\n",
      "\n",
      "    accuracy                           0.65      4808\n",
      "   macro avg       0.65      0.65      0.65      4808\n",
      "weighted avg       0.65      0.65      0.65      4808\n",
      "\n"
     ]
    }
   ],
   "source": [
    "svc = SVC()\n",
    "svc.fit(xtrain,ytrain)\n",
    "pred_svc = svc.predict(xtest)\n",
    "\n",
    "cm = confusion_matrix(ytest, pred_svc)\n",
    "plt.figure()\n",
    "plot_confusion_matrix(svc, xtest, ytest)\n",
    "plt.title(\"SVC Model - Confusion Matrix\")\n",
    "plt.xticks([0,1], ['No', 'Yes'])\n",
    "plt.yticks([0,1], ['No', 'Yes'])\n",
    "plt.show()\n",
    "\n",
    "print(classification_report(pred_svc, ytest))"
   ]
  },
  {
   "cell_type": "code",
   "execution_count": null,
   "id": "B3D1F0-xak_T",
   "metadata": {
    "id": "B3D1F0-xak_T",
    "outputId": "21858fe8-5b1e-4b55-d953-63f5715efdfe"
   },
   "outputs": [
    {
     "name": "stdout",
     "output_type": "stream",
     "text": [
      "Average 10-fold score: 0.645\n"
     ]
    }
   ],
   "source": [
    "svc_scores = cross_val_score(svc, xtest, ytest, cv=5)\n",
    "print('Average 10-fold score: %.3f' % np.mean(svc_scores))"
   ]
  },
  {
   "cell_type": "code",
   "execution_count": null,
   "id": "AbrYcpecamZk",
   "metadata": {
    "id": "AbrYcpecamZk",
    "outputId": "506b8d55-a58c-4e5a-b6d2-054e01bb7fdc"
   },
   "outputs": [
    {
     "name": "stderr",
     "output_type": "stream",
     "text": [
      "C:\\Python38\\lib\\site-packages\\sklearn\\utils\\deprecation.py:87: FutureWarning: Function plot_confusion_matrix is deprecated; Function `plot_confusion_matrix` is deprecated in 1.0 and will be removed in 1.2. Use one of the class methods: ConfusionMatrixDisplay.from_predictions or ConfusionMatrixDisplay.from_estimator.\n",
      "  warnings.warn(msg, category=FutureWarning)\n"
     ]
    },
    {
     "data": {
      "text/plain": [
       "<Figure size 432x288 with 0 Axes>"
      ]
     },
     "metadata": {},
     "output_type": "display_data"
    },
    {
     "data": {
      "image/png": "[encoded data removed]",
      "text/plain": [
       "<Figure size 432x288 with 2 Axes>"
      ]
     },
     "metadata": {},
     "output_type": "display_data"
    },
    {
     "name": "stdout",
     "output_type": "stream",
     "text": [
      "              precision    recall  f1-score   support\n",
      "\n",
      "         0.0       0.82      0.78      0.80      2538\n",
      "         1.0       0.76      0.81      0.78      2270\n",
      "\n",
      "    accuracy                           0.79      4808\n",
      "   macro avg       0.79      0.79      0.79      4808\n",
      "weighted avg       0.79      0.79      0.79      4808\n",
      "\n"
     ]
    }
   ],
   "source": [
    "svc_opt = SVC(C=150)\n",
    "svc_opt.fit(xtrain,ytrain)\n",
    "pred_svc_opt = svc_opt.predict(xtest)\n",
    "\n",
    "cm = confusion_matrix(ytest, pred_svc_opt)\n",
    "plt.figure()\n",
    "plot_confusion_matrix(svc_opt, xtest, ytest)\n",
    "plt.title(\"SVC Model - Confusion Matrix\")\n",
    "plt.xticks([0,1], ['No', 'Yes'])\n",
    "plt.yticks([0,1], ['No', 'Yes'])\n",
    "plt.show()\n",
    "\n",
    "print(classification_report(pred_svc_opt, ytest))"
   ]
  },
  {
   "cell_type": "code",
   "execution_count": null,
   "id": "qP7CSwJJaoDB",
   "metadata": {
    "id": "qP7CSwJJaoDB",
    "outputId": "1f7f046a-7551-48ba-bdfa-00035e2be4a2"
   },
   "outputs": [
    {
     "name": "stdout",
     "output_type": "stream",
     "text": [
      "Average 10-fold score: 0.739\n"
     ]
    }
   ],
   "source": [
    "svc_scores = cross_val_score(svc_opt, xtest, ytest, cv=5)\n",
    "print('Average 10-fold score: %.3f' % np.mean(svc_scores))"
   ]
  },
  {
   "cell_type": "markdown",
   "id": "ewXsbqGtutR0",
   "metadata": {
    "id": "ewXsbqGtutR0"
   },
   "source": [
    "#### Decision Tree Classifier"
   ]
  },
  {
   "cell_type": "code",
   "execution_count": null,
   "id": "RuRv1zmYap59",
   "metadata": {
    "id": "RuRv1zmYap59",
    "outputId": "72851aa1-d56b-444b-c827-2e5a26c21dd0"
   },
   "outputs": [
    {
     "name": "stderr",
     "output_type": "stream",
     "text": [
      "C:\\Python38\\lib\\site-packages\\sklearn\\utils\\deprecation.py:87: FutureWarning: Function plot_confusion_matrix is deprecated; Function `plot_confusion_matrix` is deprecated in 1.0 and will be removed in 1.2. Use one of the class methods: ConfusionMatrixDisplay.from_predictions or ConfusionMatrixDisplay.from_estimator.\n",
      "  warnings.warn(msg, category=FutureWarning)\n"
     ]
    },
    {
     "data": {
      "text/plain": [
       "<Figure size 432x288 with 0 Axes>"
      ]
     },
     "metadata": {},
     "output_type": "display_data"
    },
    {
     "data": {
      "image/png": "[encoded data removed]",
      "text/plain": [
       "<Figure size 432x288 with 2 Axes>"
      ]
     },
     "metadata": {},
     "output_type": "display_data"
    },
    {
     "name": "stdout",
     "output_type": "stream",
     "text": [
      "              precision    recall  f1-score   support\n",
      "\n",
      "         0.0       0.77      0.78      0.77      2386\n",
      "         1.0       0.78      0.77      0.77      2422\n",
      "\n",
      "    accuracy                           0.77      4808\n",
      "   macro avg       0.77      0.77      0.77      4808\n",
      "weighted avg       0.77      0.77      0.77      4808\n",
      "\n"
     ]
    }
   ],
   "source": [
    "dt = DecisionTreeClassifier()\n",
    "dt.fit(xtrain,ytrain)\n",
    "pred_dt = dt.predict(xtest)\n",
    "\n",
    "cm = confusion_matrix(ytest, pred_dt)\n",
    "plt.figure()\n",
    "plot_confusion_matrix(dt, xtest, ytest)\n",
    "plt.title(\"DT Model - Confusion Matrix\")\n",
    "plt.xticks([0,1], ['No', 'Yes'])\n",
    "plt.yticks([0,1], ['No', 'Yes'])\n",
    "plt.show()\n",
    "\n",
    "print(classification_report(pred_dt, ytest))"
   ]
  },
  {
   "cell_type": "code",
   "execution_count": null,
   "id": "uNaEy11carwN",
   "metadata": {
    "id": "uNaEy11carwN",
    "outputId": "b0a3377f-bf7d-4ba3-870c-23c454dd91af"
   },
   "outputs": [
    {
     "name": "stdout",
     "output_type": "stream",
     "text": [
      "Average 10-fold score: 0.769\n"
     ]
    }
   ],
   "source": [
    "dt_scores = cross_val_score(dt, xtest, ytest, cv=10)\n",
    "print('Average 10-fold score: %.3f' % np.mean(dt_scores))"
   ]
  },
  {
   "cell_type": "code",
   "execution_count": null,
   "id": "HUhfQ-Rqata0",
   "metadata": {
    "id": "HUhfQ-Rqata0",
    "outputId": "a175b5cf-826e-4a9a-be44-a6ad6b6070bc"
   },
   "outputs": [
    {
     "name": "stderr",
     "output_type": "stream",
     "text": [
      "C:\\Python38\\lib\\site-packages\\sklearn\\utils\\deprecation.py:87: FutureWarning: Function plot_confusion_matrix is deprecated; Function `plot_confusion_matrix` is deprecated in 1.0 and will be removed in 1.2. Use one of the class methods: ConfusionMatrixDisplay.from_predictions or ConfusionMatrixDisplay.from_estimator.\n",
      "  warnings.warn(msg, category=FutureWarning)\n"
     ]
    },
    {
     "data": {
      "text/plain": [
       "<Figure size 432x288 with 0 Axes>"
      ]
     },
     "metadata": {},
     "output_type": "display_data"
    },
    {
     "data": {
      "image/png": "[encoded data removed]",
      "text/plain": [
       "<Figure size 432x288 with 2 Axes>"
      ]
     },
     "metadata": {},
     "output_type": "display_data"
    },
    {
     "name": "stdout",
     "output_type": "stream",
     "text": [
      "              precision    recall  f1-score   support\n",
      "\n",
      "         0.0       0.86      0.80      0.83      2578\n",
      "         1.0       0.78      0.84      0.81      2230\n",
      "\n",
      "    accuracy                           0.82      4808\n",
      "   macro avg       0.82      0.82      0.82      4808\n",
      "weighted avg       0.82      0.82      0.82      4808\n",
      "\n"
     ]
    }
   ],
   "source": [
    "dt_opt = DecisionTreeClassifier(min_samples_leaf=25, max_depth=7)\n",
    "dt_opt.fit(xtrain,ytrain)\n",
    "pred_dt_opt = dt_opt.predict(xtest)\n",
    "\n",
    "cm = confusion_matrix(ytest, pred_dt_opt)\n",
    "plt.figure()\n",
    "plot_confusion_matrix(dt_opt, xtest, ytest)\n",
    "plt.title(\"DT Model - Confusion Matrix\")\n",
    "plt.xticks([0,1], ['No', 'Yes'])\n",
    "plt.yticks([0,1], ['No', 'Yes'])\n",
    "plt.show()\n",
    "\n",
    "print(classification_report(pred_dt_opt, ytest))"
   ]
  },
  {
   "cell_type": "code",
   "execution_count": null,
   "id": "Mj0f2sU6avuR",
   "metadata": {
    "id": "Mj0f2sU6avuR",
    "outputId": "6492a1a5-c344-4fb1-e7d1-4d00607f8dd0"
   },
   "outputs": [
    {
     "name": "stdout",
     "output_type": "stream",
     "text": [
      "Average 10-fold score: 0.826\n"
     ]
    }
   ],
   "source": [
    "dt_scores_opt = cross_val_score(dt_opt, xtest, ytest, cv=10)\n",
    "print('Average 10-fold score: %.3f' % np.mean(dt_scores_opt))"
   ]
  },
  {
   "cell_type": "markdown",
   "id": "L0g6MoJMKLww",
   "metadata": {
    "id": "L0g6MoJMKLww"
   },
   "source": [
    "### Results from Classification\n",
    "\n",
    "| Sucess Measures: |  CV Score | F1 | Precision | Recall | R^2 |\n",
    "| ---------- | :-----------: | :-----------: | :-----------: | :-----------: | :-----------: |\n",
    "| Logistic Regression | x | x | x | x | - | \n",
    "| Support Vector Machine | x | x | x | x | - | \n",
    "| Decision Tree | x | x | x | x | - | "
   ]
  },
  {
   "cell_type": "markdown",
   "id": "xoXpypmARyRH",
   "metadata": {
    "id": "xoXpypmARyRH"
   },
   "source": [
    "## Experiments\n",
    "\n",
    "Give a detailed summary of the results of your work.\n",
    "\n",
    "Different Ideas for dealing with the imbalance include: \n",
    "\n",
    "*   Upsampling the minority class to match the majority class\n",
    "    * SMOTE\n",
    "    * Resample\n",
    "    * VAE\n",
    "*   Downsample the majority class to match the minority\n",
    "    * Resample\n",
    "    * VAE\n",
    "\n",
    "After attempting to use the raw data to upsample and downsample we concluded that we needed more usable data instead of resampling our available data.\n",
    "\n",
    " * Setup - Here is where you specify the exact performance measures you used.  \n",
    "   * Describe the data used in experiment for presenting dataset: Datasheets for Dataset template \n",
    "   * Describe your accuracy or quality measure, and your performance (runtime or throughput) measure. \n",
    "   \n",
    " * Please use visualizations whenever possible. Include links to interactive visualizations if you built them. \n",
    " \n",
    " * You can also submit a separated notebook as an appendix to your report if that makes the visualization/interaction task easier. \n",
    "   * It would be reasonable to submit your report as a notebook, but please make sure it runs on one of the two standard environments, and that you include any required files. "
   ]
  },
  {
   "cell_type": "markdown",
   "id": "EwCLvvZQR1o9",
   "metadata": {
    "id": "EwCLvvZQR1o9"
   },
   "source": [
    "## Conclusion\n",
    "In this section give a high-level summary of your results. If the reader only reads one section of the report, this one should be it, and it should be self-contained.  You can refer back to the Experiments Section for elaborations. This section should be less than a page. In particular emphasize any results that were surprising."
   ]
  },
  {
   "cell_type": "markdown",
   "id": "Dj7T851TR3I_",
   "metadata": {
    "id": "Dj7T851TR3I_"
   },
   "source": [
    "## References\n",
    "https://scikit-learn.org/stable/ - Scikit-learn website used to read about and select models. Shows important parameters, methods and attributes each model has. Also includes majority of the tools used in this project.\n",
    "\n",
    "https://www.tensorflow.org/api_docs/python/tf - Tensorflow API used to create VAE.\n",
    "\n",
    "https://seaborn.pydata.org/\n",
    "\n",
    "https://matplotlib.org/stable/index.html\n",
    "\n",
    "https://numpy.org/\n",
    "\n",
    "https://pandas.pydata.org/docs/reference/index.html"
   ]
  },
  {
   "cell_type": "markdown",
   "id": "HGKLyQzqR5ar",
   "metadata": {
    "id": "HGKLyQzqR5ar"
   },
   "source": [
    "## Appendix\n",
    "\n",
    "Explain the contributions of each member to the project. Include all supporting materials, e.g., additional figures/tables, Python code technical derivations."
   ]
  }
 ],
 "metadata": {
  "colab": {
   "collapsed_sections": [
    "9SmzVjXsui8z",
    "mbQqWPJxuplu",
    "ewXsbqGtutR0"
   ],
   "name": "Project_Final.ipynb",
   "provenance": []
  },
  "kernelspec": {
   "display_name": "Python 3 (ipykernel)",
   "language": "python",
   "name": "python3"
  },
  "language_info": {
   "codemirror_mode": {
    "name": "ipython",
    "version": 3
   },
   "file_extension": ".py",
   "mimetype": "text/x-python",
   "name": "python",
   "nbconvert_exporter": "python",
   "pygments_lexer": "ipython3",
   "version": "3.8.5"
  }
 },
 "nbformat": 4,
 "nbformat_minor": 5
}
