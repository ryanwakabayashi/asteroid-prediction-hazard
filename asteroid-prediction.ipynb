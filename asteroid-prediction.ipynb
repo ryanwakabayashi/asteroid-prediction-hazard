{
 "cells": [
  {
   "cell_type": "code",
   "execution_count": 6,
   "id": "27a2dd62",
   "metadata": {},
   "outputs": [
    {
     "name": "stderr",
     "output_type": "stream",
     "text": [
      "/Library/Frameworks/Python.framework/Versions/3.8/lib/python3.8/site-packages/IPython/core/interactiveshell.py:3441: DtypeWarning: Columns (0,10,15,16,23,24) have mixed types.Specify dtype option on import or set low_memory=False.\n",
      "  exec(code_obj, self.user_global_ns, self.user_ns)\n"
     ]
    },
    {
     "name": "stdout",
     "output_type": "stream",
     "text": [
      "      name         a         e          i          om           w         q  \\\n",
      "0    Ceres  2.769165  0.076009  10.594067   80.305532   73.597694  2.558684   \n",
      "1   Pallas  2.772466  0.230337  34.836234  173.080063  310.048857  2.133865   \n",
      "2     Juno  2.669150  0.256942  12.988919  169.852760  248.138626  1.983332   \n",
      "3    Vesta  2.361418  0.088721   7.141771  103.810804  150.728541  2.151909   \n",
      "4  Astraea  2.574249  0.191095   5.366988  141.576605  358.687607  2.082324   \n",
      "\n",
      "         ad     per_y  data_arc  ...     UB  IR  spec_B spec_T     G     moid  \\\n",
      "0  2.979647  4.608202    8822.0  ...  0.426 NaN       C      G  0.12  1.59478   \n",
      "1  3.411067  4.616444   72318.0  ...  0.284 NaN       B      B  0.11  1.23324   \n",
      "2  3.354967  4.360814   72684.0  ...  0.433 NaN      Sk      S  0.32  1.03454   \n",
      "3  2.570926  3.628837   24288.0  ...  0.492 NaN       V      V  0.32  1.13948   \n",
      "4  3.066174  4.130323   63507.0  ...  0.411 NaN       S      S   NaN  1.09589   \n",
      "\n",
      "  class         n          per          ma  \n",
      "0   MBA  0.213885  1683.145708   77.372096  \n",
      "1   MBA  0.213503  1686.155999   59.699133  \n",
      "2   MBA  0.226019  1592.787285   34.925016  \n",
      "3   MBA  0.271609  1325.432765   95.861936  \n",
      "4   MBA  0.238632  1508.600458  282.366289  \n",
      "\n",
      "[5 rows x 31 columns]\n"
     ]
    }
   ],
   "source": [
    "import pandas as pd\n",
    "\n",
    "df= pd.read_csv(\"Asteroid_Updated.csv\")\n",
    "print(df.head())\n"
   ]
  },
  {
   "cell_type": "code",
   "execution_count": null,
   "id": "ad75a9c2",
   "metadata": {},
   "outputs": [],
   "source": []
  },
  {
   "cell_type": "code",
   "execution_count": null,
   "id": "684738b6",
   "metadata": {},
   "outputs": [],
   "source": []
  }
 ],
 "metadata": {
  "kernelspec": {
   "display_name": "Python 3 (ipykernel)",
   "language": "python",
   "name": "python3"
  },
  "language_info": {
   "codemirror_mode": {
    "name": "ipython",
    "version": 3
   },
   "file_extension": ".py",
   "mimetype": "text/x-python",
   "name": "python",
   "nbconvert_exporter": "python",
   "pygments_lexer": "ipython3",
   "version": "3.8.5"
  }
 },
 "nbformat": 4,
 "nbformat_minor": 5
}
