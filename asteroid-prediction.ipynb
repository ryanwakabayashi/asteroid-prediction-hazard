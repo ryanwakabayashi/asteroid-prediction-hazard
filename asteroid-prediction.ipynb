{
 "cells": [
  {
   "cell_type": "markdown",
   "id": "8338fd1d",
   "metadata": {},
   "source": [
    "# Predicting Diameter and Potential Harm of Asteroids using Machine Learning\n",
    "\n",
    "**Authors** :\n",
    "Colin Campbell (c_c953), Jake Worden (jrw294), Leah Lewis (lrl68) and Ryan Wakabayashi (rjw102)\n",
    "\n",
    "This uses the Asteroid dataset:  https://www.kaggle.com/basu369victor/prediction-of-asteroid-diameter"
   ]
  },
  {
   "cell_type": "markdown",
   "id": "fb465ef0",
   "metadata": {},
   "source": [
    "## Setup\n",
    "\n",
    "Load python packages for data prepartion and analysis."
   ]
  },
  {
   "cell_type": "code",
   "execution_count": 4,
   "id": "27a2dd62",
   "metadata": {},
   "outputs": [],
   "source": [
    "import pandas as pd\n"
   ]
  },
  {
   "cell_type": "markdown",
   "id": "8e6de7b9",
   "metadata": {},
   "source": [
    "## Read Data\n",
    "Load the asteroid dataset into a dataframe"
   ]
  },
  {
   "cell_type": "code",
   "execution_count": 6,
   "id": "684738b6",
   "metadata": {},
   "outputs": [
    {
     "name": "stdout",
     "output_type": "stream",
     "text": [
      "<class 'pandas.core.frame.DataFrame'>\n",
      "RangeIndex: 839714 entries, 0 to 839713\n",
      "Data columns (total 31 columns):\n",
      " #   Column          Non-Null Count   Dtype  \n",
      "---  ------          --------------   -----  \n",
      " 0   name            21967 non-null   object \n",
      " 1   a               839712 non-null  float64\n",
      " 2   e               839714 non-null  float64\n",
      " 3   i               839714 non-null  float64\n",
      " 4   om              839714 non-null  float64\n",
      " 5   w               839714 non-null  float64\n",
      " 6   q               839714 non-null  float64\n",
      " 7   ad              839708 non-null  float64\n",
      " 8   per_y           839713 non-null  float64\n",
      " 9   data_arc        824240 non-null  float64\n",
      " 10  condition_code  838847 non-null  object \n",
      " 11  n_obs_used      839714 non-null  int64  \n",
      " 12  H               837025 non-null  float64\n",
      " 13  neo             839708 non-null  object \n",
      " 14  pha             823272 non-null  object \n",
      " 15  diameter        137636 non-null  object \n",
      " 16  extent          18 non-null      object \n",
      " 17  albedo          136409 non-null  float64\n",
      " 18  rot_per         18796 non-null   float64\n",
      " 19  GM              14 non-null      float64\n",
      " 20  BV              1021 non-null    float64\n",
      " 21  UB              979 non-null     float64\n",
      " 22  IR              1 non-null       float64\n",
      " 23  spec_B          1666 non-null    object \n",
      " 24  spec_T          980 non-null     object \n",
      " 25  G               119 non-null     float64\n",
      " 26  moid            823272 non-null  float64\n",
      " 27  class           839714 non-null  object \n",
      " 28  n               839712 non-null  float64\n",
      " 29  per             839708 non-null  float64\n",
      " 30  ma              839706 non-null  float64\n",
      "dtypes: float64(21), int64(1), object(9)\n",
      "memory usage: 198.6+ MB\n"
     ]
    }
   ],
   "source": [
    "df= pd.read_csv(\"Asteroid_Updated.csv\")\n",
    "df.info()"
   ]
  },
  {
   "cell_type": "code",
   "execution_count": null,
   "id": "9f067f19",
   "metadata": {},
   "outputs": [],
   "source": []
  }
 ],
 "metadata": {
  "kernelspec": {
   "display_name": "Python 3 (ipykernel)",
   "language": "python",
   "name": "python3"
  },
  "language_info": {
   "codemirror_mode": {
    "name": "ipython",
    "version": 3
   },
   "file_extension": ".py",
   "mimetype": "text/x-python",
   "name": "python",
   "nbconvert_exporter": "python",
   "pygments_lexer": "ipython3",
   "version": "3.8.5"
  }
 },
 "nbformat": 4,
 "nbformat_minor": 5
}
